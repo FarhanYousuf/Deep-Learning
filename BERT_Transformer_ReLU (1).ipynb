{
  "cells": [
    {
      "cell_type": "markdown",
      "metadata": {
        "id": "mop_0imf7FDA"
      },
      "source": [
        "# A BERT, Transformer, and ReLU-Based Recommendation System\n",
        "\n",
        "\n",
        "\n",
        "**Author:** Farhan Yousuf<br>\n",
        "**Date created:** 2022/04/17<br>\n",
        "**Last modified:** 2022/04/18<br>\n",
        "**Description:** Utilizing the Movielens data, supplemented by text features, to produce an architecture consisting of BERT, a transformer layer, and a 3-layer ReLU-based neural network for movie rating prediction."
      ]
    },
    {
      "cell_type": "markdown",
      "metadata": {
        "id": "lGK9NRBX7FDF"
      },
      "source": [
        "## Introduction\n",
        "\n",
        "The original colab notebook which this work took inspiration from demonstrates the [Behavior Sequence Transformer (BST)](https://arxiv.org/abs/1905.06874)\n",
        "model, by Qiwei Chen et al., using the [Movielens dataset](https://grouplens.org/datasets/movielens/).\n",
        "This dataset was augmenting by incorporating additional information regarding the movies in the form of summaries. A BERT model was implemented in order to process the tokenizations of these overviews and concatenated with the BST model, which itself aims to predict the rating of a target movie by accepting the following inputs:\n",
        "\n",
        "1. A fixed-length *sequence* of `movie_ids` watched by a user.\n",
        "2. A fixed-length *sequence* of the `ratings` for the movies watched by a user.\n",
        "3. A *set* of user features, including `user_id`, `sex`, `occupation`, and `age_group`.\n",
        "4. A *set* of `genres` for each movie in the input sequence and the target movie.\n",
        "5. A `target_movie_id` for which to predict the rating.\n",
        "\n",
        "Note that the above does not cover all the features used; the BERT outputs were produced, and their hidden features\n",
        "\n",
        "The BST model was modified by including the movie categorical features (in this case the genre(s)) into the embedding of each movie. These encodings were further augmented by incorporating numerical features into the model. The data was divided into sequences, with the last element being the target, or label, and all others comprising the feature space. As such, the positions of all data within the sequence was taken into consideration.\n",
        "\n",
        "Note that this example should be run with TensorFlow 2.4 or higher."
      ]
    },
    {
      "cell_type": "markdown",
      "metadata": {
        "id": "CeAW9Bwh7FDI"
      },
      "source": [
        "## The dataset\n",
        "\n",
        "We use the [1M version of the Movielens dataset](https://grouplens.org/datasets/movielens/1m/).\n",
        "The dataset includes around 1 million ratings from 6000 users on 4000 movies,\n",
        "along with some user features, movie genres. In addition, the timestamp of each user-movie\n",
        "rating is provided, which allows creating sequences of movie ratings for each user,\n",
        "as expected by the BST model."
      ]
    },
    {
      "cell_type": "markdown",
      "metadata": {
        "id": "YazrRXvO7FDK"
      },
      "source": [
        "## Setup"
      ]
    },
    {
      "cell_type": "code",
      "source": [
        "!pip install transformers"
      ],
      "metadata": {
        "colab": {
          "base_uri": "https://localhost:8080/"
        },
        "id": "w8IV79mlyo0e",
        "outputId": "8267a31a-e001-41fe-cc40-11b09ae120ac"
      },
      "execution_count": null,
      "outputs": [
        {
          "output_type": "stream",
          "name": "stdout",
          "text": [
            "Collecting transformers\n",
            "  Downloading transformers-4.18.0-py3-none-any.whl (4.0 MB)\n",
            "\u001b[K     |████████████████████████████████| 4.0 MB 4.3 MB/s \n",
            "\u001b[?25hCollecting sacremoses\n",
            "  Downloading sacremoses-0.0.49-py3-none-any.whl (895 kB)\n",
            "\u001b[K     |████████████████████████████████| 895 kB 65.7 MB/s \n",
            "\u001b[?25hRequirement already satisfied: packaging>=20.0 in /usr/local/lib/python3.7/dist-packages (from transformers) (21.3)\n",
            "Requirement already satisfied: regex!=2019.12.17 in /usr/local/lib/python3.7/dist-packages (from transformers) (2019.12.20)\n",
            "Requirement already satisfied: importlib-metadata in /usr/local/lib/python3.7/dist-packages (from transformers) (4.11.3)\n",
            "Requirement already satisfied: filelock in /usr/local/lib/python3.7/dist-packages (from transformers) (3.6.0)\n",
            "Collecting huggingface-hub<1.0,>=0.1.0\n",
            "  Downloading huggingface_hub-0.5.1-py3-none-any.whl (77 kB)\n",
            "\u001b[K     |████████████████████████████████| 77 kB 8.9 MB/s \n",
            "\u001b[?25hCollecting pyyaml>=5.1\n",
            "  Downloading PyYAML-6.0-cp37-cp37m-manylinux_2_5_x86_64.manylinux1_x86_64.manylinux_2_12_x86_64.manylinux2010_x86_64.whl (596 kB)\n",
            "\u001b[K     |████████████████████████████████| 596 kB 82.1 MB/s \n",
            "\u001b[?25hRequirement already satisfied: numpy>=1.17 in /usr/local/lib/python3.7/dist-packages (from transformers) (1.21.6)\n",
            "Collecting tokenizers!=0.11.3,<0.13,>=0.11.1\n",
            "  Downloading tokenizers-0.12.1-cp37-cp37m-manylinux_2_12_x86_64.manylinux2010_x86_64.whl (6.6 MB)\n",
            "\u001b[K     |████████████████████████████████| 6.6 MB 58.3 MB/s \n",
            "\u001b[?25hRequirement already satisfied: tqdm>=4.27 in /usr/local/lib/python3.7/dist-packages (from transformers) (4.64.0)\n",
            "Requirement already satisfied: requests in /usr/local/lib/python3.7/dist-packages (from transformers) (2.23.0)\n",
            "Requirement already satisfied: typing-extensions>=3.7.4.3 in /usr/local/lib/python3.7/dist-packages (from huggingface-hub<1.0,>=0.1.0->transformers) (4.2.0)\n",
            "Requirement already satisfied: pyparsing!=3.0.5,>=2.0.2 in /usr/local/lib/python3.7/dist-packages (from packaging>=20.0->transformers) (3.0.8)\n",
            "Requirement already satisfied: zipp>=0.5 in /usr/local/lib/python3.7/dist-packages (from importlib-metadata->transformers) (3.8.0)\n",
            "Requirement already satisfied: urllib3!=1.25.0,!=1.25.1,<1.26,>=1.21.1 in /usr/local/lib/python3.7/dist-packages (from requests->transformers) (1.24.3)\n",
            "Requirement already satisfied: certifi>=2017.4.17 in /usr/local/lib/python3.7/dist-packages (from requests->transformers) (2021.10.8)\n",
            "Requirement already satisfied: chardet<4,>=3.0.2 in /usr/local/lib/python3.7/dist-packages (from requests->transformers) (3.0.4)\n",
            "Requirement already satisfied: idna<3,>=2.5 in /usr/local/lib/python3.7/dist-packages (from requests->transformers) (2.10)\n",
            "Requirement already satisfied: click in /usr/local/lib/python3.7/dist-packages (from sacremoses->transformers) (7.1.2)\n",
            "Requirement already satisfied: joblib in /usr/local/lib/python3.7/dist-packages (from sacremoses->transformers) (1.1.0)\n",
            "Requirement already satisfied: six in /usr/local/lib/python3.7/dist-packages (from sacremoses->transformers) (1.15.0)\n",
            "Installing collected packages: pyyaml, tokenizers, sacremoses, huggingface-hub, transformers\n",
            "  Attempting uninstall: pyyaml\n",
            "    Found existing installation: PyYAML 3.13\n",
            "    Uninstalling PyYAML-3.13:\n",
            "      Successfully uninstalled PyYAML-3.13\n",
            "Successfully installed huggingface-hub-0.5.1 pyyaml-6.0 sacremoses-0.0.49 tokenizers-0.12.1 transformers-4.18.0\n"
          ]
        }
      ]
    },
    {
      "cell_type": "code",
      "execution_count": null,
      "metadata": {
        "id": "5Okx9iTS7FDM"
      },
      "outputs": [],
      "source": [
        "import os\n",
        "import math\n",
        "from zipfile import ZipFile\n",
        "from urllib.request import urlretrieve\n",
        "import numpy as np\n",
        "import pandas as pd\n",
        "import tensorflow as tf\n",
        "from tensorflow import keras\n",
        "from tensorflow.keras import layers\n",
        "from tensorflow.keras.layers import StringLookup\n",
        "from transformers import BertTokenizer, TFBertModel, BertConfig"
      ]
    },
    {
      "cell_type": "markdown",
      "metadata": {
        "id": "AxhLA5HQ7FDP"
      },
      "source": [
        "## Prepare the data\n",
        "\n",
        "### Download and prepare the DataFrames\n",
        "\n",
        "The movielens data can be downloaded through online files. However, for this project, an additional file is given that provides information on each movie, including text (an overview) and numerical features (budget, vote average, etc.).\n",
        "The downloaded folder will contain three data files: `users.dat`, `movies.dat`,\n",
        "and `ratings.dat`."
      ]
    },
    {
      "cell_type": "code",
      "execution_count": null,
      "metadata": {
        "id": "rIJPemtj7FDR"
      },
      "outputs": [],
      "source": [
        "urlretrieve(\"http://files.grouplens.org/datasets/movielens/ml-1m.zip\", \"movielens.zip\")\n",
        "ZipFile(\"movielens.zip\", \"r\").extractall()"
      ]
    },
    {
      "cell_type": "markdown",
      "metadata": {
        "id": "iOd1Eo8C7FDT"
      },
      "source": [
        "Then, we load the data into pandas DataFrames with their proper column names."
      ]
    },
    {
      "cell_type": "code",
      "source": [
        "users = pd.read_csv(\n",
        "    \"ml-1m/users.dat\",\n",
        "    sep=\"::\",\n",
        "    names=[\"user_id\", \"sex\", \"age_group\", \"occupation\", \"zip_code\"],\n",
        ")\n",
        "\n",
        "ratings = pd.read_csv(\n",
        "    \"ml-1m/ratings.dat\",\n",
        "    sep=\"::\",\n",
        "    names=[\"user_id\", \"movie_id\", \"rating\", \"unix_timestamp\"],\n",
        ")\n",
        "\n",
        "movies = pd.read_csv(\n",
        "    \"ml-1m/movies.dat\", sep=\"::\", names=[\"movie_id\", \"title\", \"genres\"], encoding=\"ISO-8859-1\"\n",
        ")"
      ],
      "metadata": {
        "id": "ugtGlSyStqHi",
        "colab": {
          "base_uri": "https://localhost:8080/"
        },
        "outputId": "dc9b4a1d-e575-4b65-969c-b749ca11f52a"
      },
      "execution_count": null,
      "outputs": [
        {
          "output_type": "stream",
          "name": "stderr",
          "text": [
            "/usr/local/lib/python3.7/dist-packages/pandas/util/_decorators.py:311: ParserWarning: Falling back to the 'python' engine because the 'c' engine does not support regex separators (separators > 1 char and different from '\\s+' are interpreted as regex); you can avoid this warning by specifying engine='python'.\n",
            "  return func(*args, **kwargs)\n"
          ]
        }
      ]
    },
    {
      "cell_type": "markdown",
      "source": [
        "The movie meta data file is not available through the online folder and as such must be uploaded through another method; here, Google Drive is used. The following code connects this notebook to Google Drive."
      ],
      "metadata": {
        "id": "eJ0ZzweUep19"
      }
    },
    {
      "cell_type": "code",
      "source": [
        "from google.colab import drive\n",
        "drive.mount('/content/drive')"
      ],
      "metadata": {
        "colab": {
          "base_uri": "https://localhost:8080/"
        },
        "id": "sa627-Dz7Vwr",
        "outputId": "9eebf2b8-6676-4c8c-dfbb-1140d997000a"
      },
      "execution_count": null,
      "outputs": [
        {
          "output_type": "stream",
          "name": "stdout",
          "text": [
            "Mounted at /content/drive\n"
          ]
        }
      ]
    },
    {
      "cell_type": "markdown",
      "metadata": {
        "id": "QIv1q4ps7FDW"
      },
      "source": [
        "Here, we do some simple data processing to fix the data types of the columns."
      ]
    },
    {
      "cell_type": "code",
      "execution_count": null,
      "metadata": {
        "id": "R8Mlrse87FDY"
      },
      "outputs": [],
      "source": [
        "users[\"user_id\"] = users[\"user_id\"].apply(lambda x: f\"user_{x}\")\n",
        "users[\"age_group\"] = users[\"age_group\"].apply(lambda x: f\"group_{x}\")\n",
        "users[\"occupation\"] = users[\"occupation\"].apply(lambda x: f\"occupation_{x}\")\n",
        "\n",
        "movies[\"movie_id\"] = movies[\"movie_id\"].apply(lambda x: f\"movie_{x}\")\n",
        "\n",
        "ratings[\"movie_id\"] = ratings[\"movie_id\"].apply(lambda x: f\"movie_{x}\")\n",
        "ratings[\"user_id\"] = ratings[\"user_id\"].apply(lambda x: f\"user_{x}\")\n",
        "ratings[\"rating\"] = ratings[\"rating\"].apply(lambda x: float(x))"
      ]
    },
    {
      "cell_type": "markdown",
      "metadata": {
        "id": "eK6M_5f37FDZ"
      },
      "source": [
        "Each movie has multiple genres. We split them into separate columns in the `movies`\n",
        "DataFrame. These will be our categorical features."
      ]
    },
    {
      "cell_type": "code",
      "execution_count": null,
      "metadata": {
        "id": "1n1hR92A7FDa"
      },
      "outputs": [],
      "source": [
        "genres = [\n",
        "    \"Action\",\n",
        "    \"Adventure\",\n",
        "    \"Animation\",\n",
        "    \"Children's\",\n",
        "    \"Comedy\",\n",
        "    \"Crime\",\n",
        "    \"Documentary\",\n",
        "    \"Drama\",\n",
        "    \"Fantasy\",\n",
        "    \"Film-Noir\",\n",
        "    \"Horror\",\n",
        "    \"Musical\",\n",
        "    \"Mystery\",\n",
        "    \"Romance\",\n",
        "    \"Sci-Fi\",\n",
        "    \"Thriller\",\n",
        "    \"War\",\n",
        "    \"Western\",\n",
        "]\n",
        "\n",
        "for genre in genres:\n",
        "    movies[genre] = movies[\"genres\"].apply(\n",
        "        lambda values: int(genre in values.split(\"|\"))\n",
        "    )\n"
      ]
    },
    {
      "cell_type": "code",
      "source": [
        "meta = pd.read_csv('/content/drive/My Drive/movies_metadata.csv')"
      ],
      "metadata": {
        "id": "yBwTeOOR7xrz",
        "colab": {
          "base_uri": "https://localhost:8080/"
        },
        "outputId": "570e8b5c-898c-472f-854f-41b915ed23ed"
      },
      "execution_count": null,
      "outputs": [
        {
          "output_type": "stream",
          "name": "stderr",
          "text": [
            "/usr/local/lib/python3.7/dist-packages/IPython/core/interactiveshell.py:2882: DtypeWarning: Columns (10) have mixed types.Specify dtype option on import or set low_memory=False.\n",
            "  exec(code_obj, self.user_global_ns, self.user_ns)\n"
          ]
        }
      ]
    },
    {
      "cell_type": "markdown",
      "source": [
        "The instructions for this project include aligning the overview with each movie based on year and title, which is done below."
      ],
      "metadata": {
        "id": "kXLlMPH6fFUY"
      }
    },
    {
      "cell_type": "code",
      "source": [
        "meta['year'] = meta['release_date'].str[:4]\n",
        "meta['year_and_title'] = meta['title'] + \" (\" + meta['year'] + ')'\n",
        "\n",
        "meta = meta.dropna(subset=['year_and_title'])\n",
        "meta.drop_duplicates(subset =\"year_and_title\",\n",
        "                     keep = False, inplace = True)\n",
        "movies = pd.merge(movies, meta[['year_and_title', 'budget', 'overview', 'popularity', 'revenue', 'runtime', 'vote_average', 'vote_count']], \n",
        "                  how='left', left_on='title', right_on='year_and_title')"
      ],
      "metadata": {
        "id": "Vq4_-EQe74st",
        "colab": {
          "base_uri": "https://localhost:8080/"
        },
        "outputId": "4b93b140-c69f-4fad-f4ea-e21d1aadfcd4"
      },
      "execution_count": null,
      "outputs": [
        {
          "output_type": "stream",
          "name": "stderr",
          "text": [
            "/usr/local/lib/python3.7/dist-packages/pandas/util/_decorators.py:311: SettingWithCopyWarning: \n",
            "A value is trying to be set on a copy of a slice from a DataFrame\n",
            "\n",
            "See the caveats in the documentation: https://pandas.pydata.org/pandas-docs/stable/user_guide/indexing.html#returning-a-view-versus-a-copy\n",
            "  return func(*args, **kwargs)\n"
          ]
        }
      ]
    },
    {
      "cell_type": "markdown",
      "source": [
        "Similarly, the ratings dataframe, which will be used in the model post-processing, will merge with the movies to provide additional features."
      ],
      "metadata": {
        "id": "k5A20dPOfNsD"
      }
    },
    {
      "cell_type": "code",
      "source": [
        "ratings = pd.merge(ratings, movies[['movie_id', 'budget', 'overview', 'popularity', 'revenue', 'runtime', 'vote_average', 'vote_count']],\n",
        "                   how='left', left_on='movie_id', right_on='movie_id')"
      ],
      "metadata": {
        "id": "_M_83_mO8197"
      },
      "execution_count": null,
      "outputs": []
    },
    {
      "cell_type": "markdown",
      "source": [
        "NaN values must be filled or dropped."
      ],
      "metadata": {
        "id": "oO5T4JUHfXsd"
      }
    },
    {
      "cell_type": "code",
      "source": [
        "ratings[\"budget\"] = ratings[\"budget\"].astype(float)\n",
        "ratings[\"popularity\"] = ratings[\"popularity\"].astype(float)\n",
        "ratings[\"revenue\"] = ratings[\"revenue\"].astype(float)\n",
        "ratings[\"runtime\"] = ratings[\"runtime\"].astype(float)\n",
        "ratings[\"vote_average\"] = ratings[\"vote_average\"].astype(float)\n",
        "ratings[\"vote_count\"] = ratings[\"vote_count\"].astype(float)"
      ],
      "metadata": {
        "id": "JXZTUwXLcFSI"
      },
      "execution_count": null,
      "outputs": []
    },
    {
      "cell_type": "code",
      "source": [
        "ratings[\"budget\"].fillna(ratings[\"budget\"].mean(), inplace=True)\n",
        "ratings[\"popularity\"].fillna(ratings[\"popularity\"].mean(), inplace=True)\n",
        "ratings[\"revenue\"].fillna(ratings[\"revenue\"].mean(), inplace=True)\n",
        "ratings[\"runtime\"].fillna(ratings[\"runtime\"].mean(), inplace=True)\n",
        "ratings[\"vote_average\"].fillna(ratings[\"vote_average\"].mean(), inplace=True)\n",
        "ratings[\"vote_count\"].fillna(ratings[\"vote_count\"].mean(), inplace=True)"
      ],
      "metadata": {
        "id": "WjS3oN4h9vPZ"
      },
      "execution_count": null,
      "outputs": []
    },
    {
      "cell_type": "code",
      "source": [
        "ratings[\"overview\"].fillna(\"No overview available\", inplace=True)"
      ],
      "metadata": {
        "id": "pwQY7YEM8V1j"
      },
      "execution_count": null,
      "outputs": []
    },
    {
      "cell_type": "markdown",
      "source": [
        "My earlier attempts to complete this project resulted in an exploding gradients problem (signified by the loss appearing as NaN values). As such, I sought to normalize the numerical data, shown below."
      ],
      "metadata": {
        "id": "a1TlQzZUfl2H"
      }
    },
    {
      "cell_type": "code",
      "source": [
        "ratings[\"budget\"] = (ratings[\"budget\"] - ratings[\"budget\"].mean())/ ratings[\"budget\"].std()\n",
        "ratings[\"popularity\"] = (ratings[\"popularity\"] - ratings[\"popularity\"].mean()) / ratings[\"popularity\"].std()\n",
        "ratings[\"revenue\"] = (ratings[\"revenue\"] - ratings[\"revenue\"].mean())/ratings[\"revenue\"].std()\n",
        "ratings[\"runtime\"] = (ratings[\"runtime\"] - ratings[\"runtime\"].mean())/ratings[\"runtime\"].std()\n",
        "ratings[\"vote_count\"] = (ratings[\"vote_count\"] - ratings[\"vote_count\"].mean())/ratings[\"vote_count\"].std()"
      ],
      "metadata": {
        "id": "pCLoe0GLQr-u"
      },
      "execution_count": null,
      "outputs": []
    },
    {
      "cell_type": "code",
      "source": [
        "ratings[\"budget\"] = ratings[\"budget\"].astype(str)\n",
        "ratings[\"popularity\"] = ratings[\"popularity\"].astype(str)\n",
        "ratings[\"revenue\"] = ratings[\"revenue\"].astype(str)\n",
        "ratings[\"runtime\"] = ratings[\"runtime\"].astype(str)\n",
        "ratings[\"vote_average\"] = ratings[\"vote_average\"].astype(str)\n",
        "ratings[\"vote_count\"] = ratings[\"vote_count\"].astype(str)"
      ],
      "metadata": {
        "id": "orH1KITmeT6w"
      },
      "execution_count": null,
      "outputs": []
    },
    {
      "cell_type": "markdown",
      "source": [
        "BERT was used to encode the textual data. However, the text cannot be fed directly to BERT; a BERT-oriented tokenizer must be used."
      ],
      "metadata": {
        "id": "UiZQ_eI8f4YR"
      }
    },
    {
      "cell_type": "code",
      "source": [
        "tokenizer = BertTokenizer.from_pretrained('bert-base-uncased')\n",
        "overview_unique = list(set(movies[\"overview\"].dropna()))\n",
        "overview_unique = list(set(overview_unique))"
      ],
      "metadata": {
        "colab": {
          "base_uri": "https://localhost:8080/",
          "height": 113,
          "referenced_widgets": [
            "4c61fff0b05f4869b7c69f8cd55fb41c",
            "1e4d1d92726d472f99a5152167fba198",
            "c30c34fee3a447cab6e803ee525f5715",
            "b7ac532d87a6419d9c2c7733b4f9f7c7",
            "044f93f780ee47fc87495dcb7f6a9394",
            "45706d7523a14b7a96669fb7567af69b",
            "27d0d48b509e42fa8076dc92326ecf4a",
            "f4a2b638ce37490895bb7e8a7f0c12f7",
            "85548c016d00473c96ae4d9ef7d54032",
            "4378f2abe9b64eaa82174c5510880c3a",
            "1a3f13fe7e8c49caa2e21ca4aaa997c8",
            "c276a722be894acf9646870d78756431",
            "1d6df8645f5a46ed8da1164befc0d13d",
            "2206a64ad2114f5fa81359e5892f7676",
            "dd8ec2becf9d4d8a9310c71580de80c0",
            "f805274f44ca4289892a5a6aac59e5f6",
            "7ef0514525514ec3b961515d4592246b",
            "6e47e9a99c1e422ba61955b24d448562",
            "abdf96763e2d4edbb31b25232e3d8963",
            "8ccfd3e08a5040eeabd85a2601c6949b",
            "49c205098b504e13a7b8855a9d4cc78b",
            "1456b7b0982c4efc987d5827eee6e45b",
            "4a4795d5c2b44be2947e4c3d0de76e26",
            "7b592b28ef4741928b68163c46de1d2d",
            "300760c8d2d74ab3a2b6d90e4d67e3c8",
            "59c22caa9032478fbb78c2583bdc6a1f",
            "9cd73e7008814cba9b1cfd26c69bf166",
            "3737eb8ea531422ab82c0a3199e6a883",
            "f9f123cec903428c997ee023e496fe6d",
            "ad82d3447b7e4a2b86c7aabf9d0a0de9",
            "eb97a4a711884aaeb2712f4c34ae7d07",
            "5a6fd499fa1e42a48bd29c70fa393606",
            "1711ae14011e44a49f4eebaa5383002d"
          ]
        },
        "id": "1lcsXyo1Gz4y",
        "outputId": "d83144f9-093e-420a-a85b-7bfee2225787"
      },
      "execution_count": null,
      "outputs": [
        {
          "output_type": "display_data",
          "data": {
            "text/plain": [
              "Downloading:   0%|          | 0.00/226k [00:00<?, ?B/s]"
            ],
            "application/vnd.jupyter.widget-view+json": {
              "version_major": 2,
              "version_minor": 0,
              "model_id": "4c61fff0b05f4869b7c69f8cd55fb41c"
            }
          },
          "metadata": {}
        },
        {
          "output_type": "display_data",
          "data": {
            "text/plain": [
              "Downloading:   0%|          | 0.00/28.0 [00:00<?, ?B/s]"
            ],
            "application/vnd.jupyter.widget-view+json": {
              "version_major": 2,
              "version_minor": 0,
              "model_id": "c276a722be894acf9646870d78756431"
            }
          },
          "metadata": {}
        },
        {
          "output_type": "display_data",
          "data": {
            "text/plain": [
              "Downloading:   0%|          | 0.00/570 [00:00<?, ?B/s]"
            ],
            "application/vnd.jupyter.widget-view+json": {
              "version_major": 2,
              "version_minor": 0,
              "model_id": "4a4795d5c2b44be2947e4c3d0de76e26"
            }
          },
          "metadata": {}
        }
      ]
    },
    {
      "cell_type": "markdown",
      "source": [
        "Model configuration was set such that the hidden states were output, to be concatenated with the transformer output later on."
      ],
      "metadata": {
        "id": "6FRVnn6zgB-W"
      }
    },
    {
      "cell_type": "code",
      "source": [
        "config = BertConfig.from_pretrained(\"bert-base-uncased\", output_hidden_states=True)\n",
        "model = TFBertModel.from_pretrained(\"bert-base-uncased\", config=config)\n",
        "overview_tokens = [tokenizer.encode(overview_unique, add_special_tokens=True,max_length=64,pad_to_max_length=True, return_tensors='tf') for sent in overview_unique]"
      ],
      "metadata": {
        "colab": {
          "base_uri": "https://localhost:8080/",
          "height": 211,
          "referenced_widgets": [
            "579cf85918164b00afcecc20580dfbcf",
            "beab47cc3bba4b64a7648a0bfcbe761c",
            "706ca827d7a14e7a91e587a96c435994",
            "8063c61da5d841dbb1214ad9c03218e8",
            "1f46399f7f824a74abe75597e7a52577",
            "8d9abf1b4ba24cfda15203266074382a",
            "47a39c4c8d7640879fc55b339042340a",
            "93744d267f054f55a27f7957957254ff",
            "d705f267e0ba4ac68955082d858c665e",
            "1a241611b0b143cd90c8b2864de6477d",
            "35b2274227a7420eaa6b08ccd8fc16d1"
          ]
        },
        "id": "Ct5KKuOEHL-v",
        "outputId": "85eca51f-9ea9-4c49-b0fe-caf2f17135db"
      },
      "execution_count": null,
      "outputs": [
        {
          "output_type": "display_data",
          "data": {
            "text/plain": [
              "Downloading:   0%|          | 0.00/511M [00:00<?, ?B/s]"
            ],
            "application/vnd.jupyter.widget-view+json": {
              "version_major": 2,
              "version_minor": 0,
              "model_id": "579cf85918164b00afcecc20580dfbcf"
            }
          },
          "metadata": {}
        },
        {
          "output_type": "stream",
          "name": "stderr",
          "text": [
            "Some layers from the model checkpoint at bert-base-uncased were not used when initializing TFBertModel: ['nsp___cls', 'mlm___cls']\n",
            "- This IS expected if you are initializing TFBertModel from the checkpoint of a model trained on another task or with another architecture (e.g. initializing a BertForSequenceClassification model from a BertForPreTraining model).\n",
            "- This IS NOT expected if you are initializing TFBertModel from the checkpoint of a model that you expect to be exactly identical (initializing a BertForSequenceClassification model from a BertForSequenceClassification model).\n",
            "All the layers of TFBertModel were initialized from the model checkpoint at bert-base-uncased.\n",
            "If your task is similar to the task the model of the checkpoint was trained on, you can already use TFBertModel for predictions without further training.\n",
            "Truncation was not explicitly activated but `max_length` is provided a specific value, please use `truncation=True` to explicitly truncate examples to max length. Defaulting to 'longest_first' truncation strategy. If you encode pairs of sequences (GLUE-style) with the tokenizer you can select this strategy more precisely by providing a specific strategy to `truncation`.\n",
            "/usr/local/lib/python3.7/dist-packages/transformers/tokenization_utils_base.py:2269: FutureWarning: The `pad_to_max_length` argument is deprecated and will be removed in a future version, use `padding=True` or `padding='longest'` to pad to the longest sequence in the batch, or use `padding='max_length'` to pad to a max length. In this case, you can give a specific length with `max_length` (e.g. `max_length=45`) or leave max_length to None to pad to the maximal input size of the model (e.g. 512 for Bert).\n",
            "  FutureWarning,\n"
          ]
        }
      ]
    },
    {
      "cell_type": "code",
      "source": [
        "output = []\n",
        "for token in overview_tokens:\n",
        "  output.append(model(token))"
      ],
      "metadata": {
        "id": "oCZFscL9YnMA"
      },
      "execution_count": null,
      "outputs": []
    },
    {
      "cell_type": "code",
      "source": [
        "hidden_states_for_all = [states[2] for states in output]\n",
        "last_2_layers_hidden_states = [tf.math.reduce_mean(hidden_states[-2:], axis=0) for hidden_states in hidden_states_for_all]\n",
        "sentence_embeddings = [tf.math.reduce_mean(last_2_layer_hidden_state, axis=1) for last_2_layer_hidden_state in last_2_layers_hidden_states]"
      ],
      "metadata": {
        "id": "fNN2wIKoawmW"
      },
      "execution_count": null,
      "outputs": []
    },
    {
      "cell_type": "code",
      "source": [
        "arrays = []\n",
        "for embedding in sentence_embeddings:\n",
        "  arrays.append(embedding.numpy())"
      ],
      "metadata": {
        "id": "tWLH-4FK05NV"
      },
      "execution_count": null,
      "outputs": []
    },
    {
      "cell_type": "code",
      "source": [
        "array_strings = []\n",
        "for array in arrays:\n",
        "  string = str([\" \".join(item) for item in array.astype(str)])\n",
        "  array_strings.append(string[2:-2])"
      ],
      "metadata": {
        "id": "Ys0OleA_4q7S"
      },
      "execution_count": null,
      "outputs": []
    },
    {
      "cell_type": "code",
      "source": [
        "embeddings = {\"embeddings\": array_strings}\n",
        "embedding_df = pd.DataFrame(data=embeddings)"
      ],
      "metadata": {
        "id": "Qbcnoez9NzbN"
      },
      "execution_count": null,
      "outputs": []
    },
    {
      "cell_type": "code",
      "source": [
        "embedding_df[\"overview\"] = pd.DataFrame(data= {\"overview\": overview_unique})"
      ],
      "metadata": {
        "id": "hKmsXeWEdmpL"
      },
      "execution_count": null,
      "outputs": []
    },
    {
      "cell_type": "code",
      "source": [
        "movies = pd.merge(movies, embedding_df[['embeddings', 'overview']], \n",
        "                  how='left', left_on='overview', right_on='overview')"
      ],
      "metadata": {
        "id": "RpfSZEmXeG1c"
      },
      "execution_count": null,
      "outputs": []
    },
    {
      "cell_type": "code",
      "source": [
        "ratings = pd.merge(ratings, movies[['embeddings', 'movie_id']],\n",
        "                   how='left', left_on='movie_id', right_on='movie_id')"
      ],
      "metadata": {
        "id": "g5C_N25PeoMl"
      },
      "execution_count": null,
      "outputs": []
    },
    {
      "cell_type": "code",
      "source": [
        "ratings.dropna(inplace=True)"
      ],
      "metadata": {
        "id": "2YDItwd0e2p9"
      },
      "execution_count": null,
      "outputs": []
    },
    {
      "cell_type": "markdown",
      "metadata": {
        "id": "MyVxCSqL7FDc"
      },
      "source": [
        "### Transform the movie ratings data into sequences\n",
        "\n",
        "Here, we sort the the ratings data using the `unix_timestamp`, and then group the\n",
        "`movie_id` values and the `rating` values by `user_id`.\n",
        "\n",
        "The output DataFrame will have a record for each `user_id`, with two ordered lists\n",
        "(sorted by rating datetime): the movies they have rated, and their ratings of these movies."
      ]
    },
    {
      "cell_type": "code",
      "execution_count": null,
      "metadata": {
        "id": "GAPOnIlM7FDd"
      },
      "outputs": [],
      "source": [
        "ratings_group = ratings.sort_values(by=[\"unix_timestamp\"]).groupby(\"user_id\")\n",
        "\n",
        "ratings_data = pd.DataFrame(\n",
        "    data={\n",
        "        \"user_id\": list(ratings_group.groups.keys()),\n",
        "        \"movie_ids\": list(ratings_group.movie_id.apply(list)),\n",
        "        \"ratings\": list(ratings_group.rating.apply(list)),\n",
        "        \"embeddings\": list(ratings_group.embeddings.apply(list)),\n",
        "        \"timestamps\": list(ratings_group.unix_timestamp.apply(list)),\n",
        "        \"budget\": list(ratings_group.budget.apply(list)),\n",
        "        \"overview\": list(ratings_group.overview.apply(list)),\n",
        "        \"popularity\": list(ratings_group.popularity.apply(list)),\n",
        "        \"revenue\": list(ratings_group.popularity.apply(list)),\n",
        "        \"runtime\": list(ratings_group.runtime.apply(list)),\n",
        "        \"vote_average\": list(ratings_group.runtime.apply(list)),\n",
        "        \"vote_count\": list(ratings_group.runtime.apply(list))\n",
        "    }\n",
        ")\n"
      ]
    },
    {
      "cell_type": "markdown",
      "metadata": {
        "id": "VOUwfc0E7FDg"
      },
      "source": [
        "Now, let's split the `movie_ids` list into a set of sequences of a fixed length.\n",
        "We do the same for the `ratings`. Set the `sequence_length` variable to change the length\n",
        "of the input sequence to the model. You can also change the `step_size` to control the\n",
        "number of sequences to generate for each user."
      ]
    },
    {
      "cell_type": "code",
      "execution_count": null,
      "metadata": {
        "id": "24K2-JrV7FDi"
      },
      "outputs": [],
      "source": [
        "sequence_length = 4\n",
        "step_size = 2\n",
        "\n",
        "\n",
        "def create_sequences(values, window_size, step_size):\n",
        "    sequences = []\n",
        "    start_index = 0\n",
        "    while True:\n",
        "        end_index = start_index + window_size\n",
        "        seq = values[start_index:end_index]\n",
        "        if len(seq) < window_size:\n",
        "            seq = values[-window_size:]\n",
        "            if len(seq) == window_size:\n",
        "                sequences.append(seq)\n",
        "            break\n",
        "        sequences.append(seq)\n",
        "        start_index += step_size\n",
        "    return sequences\n",
        "\n",
        "\n",
        "ratings_data.movie_ids = ratings_data.movie_ids.apply(\n",
        "    lambda ids: create_sequences(ids, sequence_length, step_size)\n",
        ")\n",
        "\n",
        "ratings_data.ratings = ratings_data.ratings.apply(\n",
        "    lambda ids: create_sequences(ids, sequence_length, step_size)\n",
        ")\n",
        "\n",
        "ratings_data.budget = ratings_data.budget.apply(\n",
        "    lambda ids: create_sequences(ids, sequence_length, step_size)\n",
        ")\n",
        "ratings_data.overview = ratings_data.overview.apply(\n",
        "    lambda ids: create_sequences(ids, sequence_length, step_size)\n",
        ")\n",
        "\n",
        "ratings_data.embeddings = ratings_data.embeddings.apply(\n",
        "    lambda ids: create_sequences(ids, sequence_length, step_size)\n",
        ")\n",
        "\n",
        "ratings_data.popularity = ratings_data.popularity.apply(\n",
        "    lambda ids: create_sequences(ids, sequence_length, step_size)\n",
        ")\n",
        "\n",
        "ratings_data.revenue = ratings_data.revenue.apply(\n",
        "    lambda ids: create_sequences(ids, sequence_length, step_size)\n",
        ")\n",
        "\n",
        "ratings_data.runtime = ratings_data.runtime.apply(\n",
        "    lambda ids: create_sequences(ids, sequence_length, step_size)\n",
        ")\n",
        "\n",
        "ratings_data.vote_average = ratings_data.vote_average.apply(\n",
        "    lambda ids: create_sequences(ids, sequence_length, step_size)\n",
        ")\n",
        "\n",
        "ratings_data.vote_count = ratings_data.vote_count.apply(\n",
        "    lambda ids: create_sequences(ids, sequence_length, step_size)\n",
        ")\n",
        "\n",
        "del ratings_data[\"timestamps\"]"
      ]
    },
    {
      "cell_type": "markdown",
      "metadata": {
        "id": "hRkf-bkn7FDj"
      },
      "source": [
        "After that, we process the output to have each sequence in a separate records in\n",
        "the DataFrame. In addition, we join the user features with the ratings data."
      ]
    },
    {
      "cell_type": "code",
      "execution_count": null,
      "metadata": {
        "id": "a3xzkaS57FDj"
      },
      "outputs": [],
      "source": [
        "ratings_data_movies = ratings_data[[\"user_id\", \"movie_ids\"]].explode(\n",
        "    \"movie_ids\", ignore_index=True\n",
        ")\n",
        "ratings_data_rating = ratings_data[[\"ratings\"]].explode(\"ratings\", ignore_index=True)\n",
        "ratings_data_budget = ratings_data[[\"budget\"]].explode(\"budget\", ignore_index=True)\n",
        "ratings_data_overview = ratings_data[[\"overview\"]].explode(\"overview\", ignore_index=True)\n",
        "ratings_data_embeddings = ratings_data[[\"embeddings\"]].explode(\"embeddings\", ignore_index=True)\n",
        "ratings_data_popularity = ratings_data[[\"popularity\"]].explode(\"popularity\", ignore_index=True)\n",
        "ratings_data_revenue = ratings_data[[\"revenue\"]].explode(\"revenue\", ignore_index=True)\n",
        "ratings_data_runtime = ratings_data[[\"runtime\"]].explode(\"runtime\", ignore_index=True)\n",
        "ratings_data_vote_average = ratings_data[[\"vote_average\"]].explode(\"vote_average\", ignore_index=True)\n",
        "ratings_data_vote_count = ratings_data[[\"vote_count\"]].explode(\"vote_count\", ignore_index=True)\n",
        "ratings_data_transformed = pd.concat([ratings_data_movies, ratings_data_rating, ratings_data_budget, ratings_data_popularity, ratings_data_overview,\n",
        "                                      ratings_data_embeddings, ratings_data_revenue, ratings_data_runtime, ratings_data_vote_average, ratings_data_vote_count], axis=1)\n",
        "ratings_data_transformed = ratings_data_transformed.join(\n",
        "    users.set_index(\"user_id\"), on=\"user_id\"\n",
        ")\n",
        "ratings_data_transformed.movie_ids = ratings_data_transformed.movie_ids.apply(\n",
        "    lambda x: \",\".join(x)\n",
        ")\n",
        "ratings_data_transformed.overview = ratings_data_transformed.overview.apply(\n",
        "    lambda x: \"???\".join([str(v) for v in x])\n",
        ")\n",
        "ratings_data_transformed.embeddings = ratings_data_transformed.embeddings.apply(\n",
        "    lambda x: \"?\".join([str(v) for v in x])\n",
        ")\n",
        "\n",
        "ratings_data_transformed.ratings = ratings_data_transformed.ratings.apply(\n",
        "    lambda x: \",\".join([str(v) for v in x])\n",
        ")\n",
        "ratings_data_transformed.budget = ratings_data_transformed.budget.apply(\n",
        "    lambda x: \",\".join([str(v) for v in x])\n",
        ")\n",
        "ratings_data_transformed.popularity = ratings_data_transformed.popularity.apply(\n",
        "    lambda x: \",\".join([str(v) for v in x])\n",
        ")\n",
        "ratings_data_transformed.revenue = ratings_data_transformed.revenue.apply(\n",
        "    lambda x: \",\".join([str(v) for v in x])\n",
        ")\n",
        "ratings_data_transformed.runtime = ratings_data_transformed.runtime.apply(\n",
        "    lambda x: \",\".join([str(v) for v in x])\n",
        ")\n",
        "ratings_data_transformed.vote_average = ratings_data_transformed.vote_average.apply(\n",
        "    lambda x: \",\".join([str(v) for v in x])\n",
        ")\n",
        "ratings_data_transformed.vote_count = ratings_data_transformed.vote_count.apply(\n",
        "    lambda x: \",\".join([str(v) for v in x])\n",
        ")\n",
        "\n",
        "del ratings_data_transformed[\"zip_code\"]\n",
        "\n",
        "ratings_data_transformed.rename(\n",
        "    columns={\"movie_ids\": \"sequence_movie_ids\", \"ratings\": \"sequence_ratings\"},\n",
        "    inplace=True,\n",
        ")"
      ]
    },
    {
      "cell_type": "markdown",
      "metadata": {
        "id": "C1ULGVtX7FDl"
      },
      "source": [
        "With `sequence_length` of 4 and `step_size` of 2, we end up with 498,623 sequences.\n",
        "\n",
        "Finally, we split the data into training and testing splits, with 85% and 15% of\n",
        "the instances, respectively, and store them to CSV files."
      ]
    },
    {
      "cell_type": "code",
      "execution_count": null,
      "metadata": {
        "id": "siHAe16c7FDl"
      },
      "outputs": [],
      "source": [
        "random_selection = np.random.rand(len(ratings_data_transformed.index)) <= 0.85\n",
        "train_data = ratings_data_transformed[random_selection]\n",
        "test_data = ratings_data_transformed[~random_selection]\n",
        "\n",
        "train_data.to_csv(\"train_data.csv\", index=False, sep=\"|\", header=False)\n",
        "test_data.to_csv(\"test_data.csv\", index=False, sep=\"|\", header=False)"
      ]
    },
    {
      "cell_type": "markdown",
      "metadata": {
        "id": "G-Gq4HYm7FDm"
      },
      "source": [
        "## Define metadata"
      ]
    },
    {
      "cell_type": "code",
      "execution_count": null,
      "metadata": {
        "id": "HlJhOG0p7FDn"
      },
      "outputs": [],
      "source": [
        "CSV_HEADER = list(ratings_data_transformed.columns)\n",
        "\n",
        "CATEGORICAL_FEATURES_WITH_VOCABULARY = {\n",
        "    \"user_id\": list(users.user_id.unique()),\n",
        "    \"movie_id\": list(movies.movie_id.unique()),\n",
        "    \"sex\": list(users.sex.unique()),\n",
        "    \"age_group\": list(users.age_group.unique()),\n",
        "    \"occupation\": list(users.occupation.unique()),\n",
        "}\n",
        "\n",
        "NUMERICAL_FEATURES = [\"budget\", \"popularity\", \"revenue\", \"runtime\", \"vote_average\", \"vote_count\"]\n",
        "\n",
        "USER_FEATURES = [\"sex\", \"age_group\", \"occupation\"]\n",
        "\n",
        "MOVIE_FEATURES = [\"genres\"]"
      ]
    },
    {
      "cell_type": "markdown",
      "metadata": {
        "id": "KhSz4JEI7FDo"
      },
      "source": [
        "## Create `tf.data.Dataset` for training and evaluation"
      ]
    },
    {
      "cell_type": "code",
      "execution_count": null,
      "metadata": {
        "id": "t7_S7r1W7FDo"
      },
      "outputs": [],
      "source": [
        "\n",
        "def get_dataset_from_csv(csv_file_path, shuffle=False, batch_size=128):\n",
        "    def process(features):\n",
        "        movie_ids_string = features[\"sequence_movie_ids\"]\n",
        "        sequence_movie_ids = tf.strings.split(movie_ids_string, \",\").to_tensor()\n",
        "\n",
        "        # The last movie id in the sequence is the target movie.\n",
        "        features[\"target_movie_id\"] = sequence_movie_ids[:, -1]\n",
        "        features[\"sequence_movie_ids\"] = sequence_movie_ids[:, :-1]\n",
        "\n",
        "        # Embeddings\n",
        "        embeddings_string = features[\"embeddings\"]\n",
        "        sequence_embeddings = tf.strings.to_number(\n",
        "            tf.strings.split(tf.strings.split(embeddings_string, \"?\"), \" \"), tf.dtypes.float32 \n",
        "        ).to_tensor()\n",
        "        features[\"target_embedding\"] = sequence_embeddings[:, -1]\n",
        "        features[\"sequence_embedding\"] = sequence_embeddings[:, :-1]\n",
        "        \n",
        "        # Overview\n",
        "        overview_string = features[\"overview\"]\n",
        "        sequence_overview = tf.strings.split(overview_string, \"???\").to_tensor()\n",
        "        features[\"target_overview\"] = sequence_overview[:, -1]\n",
        "        features[\"sequence_overview\"] = sequence_overview[:, :-1]\n",
        "\n",
        "        ratings_string = features[\"sequence_ratings\"]\n",
        "        sequence_ratings = tf.strings.to_number(\n",
        "            tf.strings.split(ratings_string, \",\"), tf.dtypes.float32\n",
        "        ).to_tensor()\n",
        "\n",
        "        # The last rating in the sequence is the target for the model to predict.\n",
        "        target = sequence_ratings[:, -1]\n",
        "        features[\"sequence_ratings\"] = sequence_ratings[:, :-1]\n",
        "\n",
        "        # Budget\n",
        "        budget_string = features[\"budget\"]\n",
        "        sequence_budget = tf.strings.to_number(tf.strings.split(budget_string, \",\"), tf.dtypes.float32).to_tensor()\n",
        "        features[\"target_budget\"] = sequence_budget[:, -1]\n",
        "        features[\"sequence_budget\"] = sequence_budget[:, :-1]\n",
        "\n",
        "        # Popularity\n",
        "        popularity_string = features[\"popularity\"]\n",
        "        sequence_popularity = tf.strings.to_number(tf.strings.split(popularity_string, \",\"), tf.dtypes.float32).to_tensor()\n",
        "        features[\"target_popularity\"] = sequence_popularity[:, -1]\n",
        "        features[\"sequence_popularity\"] = sequence_popularity[:, :-1]\n",
        "\n",
        "        # Revenue\n",
        "        revenue_string = features[\"revenue\"]\n",
        "        sequence_revenue = tf.strings.to_number(tf.strings.split(revenue_string, \",\"), tf.dtypes.float32).to_tensor()\n",
        "        features[\"target_revenue\"] = sequence_revenue[:, -1]\n",
        "        features[\"sequence_revenue\"] = sequence_revenue[:, :-1]\n",
        "\n",
        "        # Runtime\n",
        "        runtime_string = features[\"runtime\"]\n",
        "        sequence_runtime = tf.strings.to_number(tf.strings.split(runtime_string, \",\"), tf.dtypes.float32).to_tensor()\n",
        "        features[\"target_runtime\"] = sequence_runtime[:, -1]\n",
        "        features[\"sequence_runtime\"] = sequence_runtime[:, :-1]\n",
        "\n",
        "        # Vote Average\n",
        "        vote_average_string = features[\"vote_average\"]\n",
        "        sequence_vote_average = tf.strings.to_number(tf.strings.split(vote_average_string, \",\"), tf.dtypes.float32).to_tensor()\n",
        "        features[\"target_vote_average\"] = sequence_vote_average[:, -1]\n",
        "        features[\"sequence_vote_average\"] = sequence_vote_average[:, :-1]\n",
        "\n",
        "        # Vote Count\n",
        "        vote_count_string = features[\"vote_count\"]\n",
        "        sequence_vote_count = tf.strings.to_number(tf.strings.split(vote_count_string, \",\"), tf.dtypes.float32).to_tensor()\n",
        "        features[\"target_vote_count\"] = sequence_vote_count[:, -1]\n",
        "        features[\"sequence_vote_count\"] = sequence_vote_count[:, :-1]\n",
        "\n",
        "        return features, target\n",
        "\n",
        "    dataset = tf.data.experimental.make_csv_dataset(\n",
        "        csv_file_path,\n",
        "        batch_size=batch_size,\n",
        "        column_names=CSV_HEADER,\n",
        "        num_epochs=1,\n",
        "        header=False,\n",
        "        field_delim=\"|\",\n",
        "        shuffle=shuffle,\n",
        "    ).map(process)\n",
        "\n",
        "    return dataset\n"
      ]
    },
    {
      "cell_type": "markdown",
      "metadata": {
        "id": "8hPkB93W7FDp"
      },
      "source": [
        "## Create model inputs"
      ]
    },
    {
      "cell_type": "code",
      "execution_count": null,
      "metadata": {
        "id": "DQTUTN-o7FDp"
      },
      "outputs": [],
      "source": [
        "\n",
        "def create_model_inputs():\n",
        "    return {\n",
        "        \"user_id\": layers.Input(name=\"user_id\", shape=(1,), dtype=tf.string),\n",
        "        \"sequence_movie_ids\": layers.Input(\n",
        "            name=\"sequence_movie_ids\", shape=(sequence_length - 1,), dtype=tf.string\n",
        "        ),\n",
        "        \"target_movie_id\": layers.Input(\n",
        "            name=\"target_movie_id\", shape=(1,), dtype=tf.string\n",
        "        ),\n",
        "        \"sequence_embedding\": layers.Input(\n",
        "            name=\"sequence_embedding\", shape=(sequence_length - 1, 768), dtype=tf.float32\n",
        "        ),\n",
        "        \"target_embedding\": layers.Input(\n",
        "            name=\"target_embedding\", shape=(1, 768), dtype=tf.float32\n",
        "        ),\n",
        "        \"sequence_ratings\": layers.Input(\n",
        "            name=\"sequence_ratings\", shape=(sequence_length - 1,), dtype=tf.float32\n",
        "        ),\n",
        "        \"sequence_budget\": layers.Input(\n",
        "            name=\"sequence_budget\", shape=(sequence_length - 1,), dtype=tf.float32\n",
        "        ),\n",
        "        \"target_budget\": layers.Input(\n",
        "            name=\"target_budget\", shape=(1,), dtype=tf.float32\n",
        "        ),\n",
        "        \"sequence_overview\": layers.Input(\n",
        "            name=\"sequence_overview\", shape=(sequence_length - 1,), dtype=tf.string\n",
        "        ),\n",
        "        \"target_overview\": layers.Input(\n",
        "            name=\"target_overview\", shape=(1,), dtype=tf.string\n",
        "        ),\n",
        "        \"sequence_popularity\": layers.Input(\n",
        "            name=\"sequence_popularity\", shape=(sequence_length - 1,), dtype=tf.float32\n",
        "        ),\n",
        "        \"target_popularity\": layers.Input(\n",
        "            name=\"target_popularity\", shape=(1,), dtype=tf.float32\n",
        "        ),\n",
        "        \"sequence_revenue\": layers.Input(\n",
        "            name=\"sequence_revenue\", shape=(sequence_length - 1,), dtype=tf.float32\n",
        "        ),\n",
        "        \"target_revenue\": layers.Input(\n",
        "            name=\"target_revenue\", shape=(1,), dtype=tf.float32\n",
        "        ),\n",
        "        \"sequence_runtime\": layers.Input(\n",
        "            name=\"sequence_runtime\", shape=(sequence_length - 1,), dtype=tf.float32\n",
        "        ),\n",
        "        \"target_runtime\": layers.Input(\n",
        "            name=\"target_runtime\", shape=(1,), dtype=tf.float32\n",
        "        ),\n",
        "        \"sequence_vote_average\": layers.Input(\n",
        "            name=\"sequence_vote_average\", shape=(sequence_length - 1,), dtype=tf.float32\n",
        "        ),\n",
        "        \"target_vote_average\": layers.Input(\n",
        "            name=\"target_vote_average\", shape=(1,), dtype=tf.float32\n",
        "        ),\n",
        "        \"sequence_vote_count\": layers.Input(\n",
        "            name=\"sequence_vote_count\", shape=(sequence_length - 1,), dtype=tf.float32\n",
        "        ),\n",
        "        \"target_vote_count\": layers.Input(\n",
        "            name=\"target_vote_count\", shape=(1,), dtype=tf.float32\n",
        "        ),\n",
        "\n",
        "        \"sex\": layers.Input(name=\"sex\", shape=(1,), dtype=tf.string),\n",
        "        \"age_group\": layers.Input(name=\"age_group\", shape=(1,), dtype=tf.string),\n",
        "        \"occupation\": layers.Input(name=\"occupation\", shape=(1,), dtype=tf.string),\n",
        "    }\n"
      ]
    },
    {
      "cell_type": "markdown",
      "metadata": {
        "id": "rwzwUJFv7FDq"
      },
      "source": [
        "## Encode input features\n",
        "\n",
        "The `encode_input_features` method works as follows:\n",
        "\n",
        "1. Each categorical user feature is encoded using `layers.Embedding`, with embedding\n",
        "dimension equals to the square root of the vocabulary size of the feature.\n",
        "The embeddings of these features are concatenated to form a single input tensor.\n",
        "\n",
        "2. Each movie in the movie sequence and the target movie is encoded `layers.Embedding`,\n",
        "where the dimension size is the square root of the number of movies.\n",
        "\n",
        "3. A multi-hot genres vector for each movie is concatenated with its embedding vector,\n",
        "and processed using a non-linear `layers.Dense` to output a vector of the same movie\n",
        "embedding dimensions.\n",
        "\n",
        "4. A positional embedding is added to each movie embedding in the sequence, and then\n",
        "multiplied by its rating from the ratings sequence. Unlike the original implementation, the embeddings also incorporate other numerical features as factors.\n",
        "\n",
        "5. The target movie embedding is concatenated to the sequence movie embeddings, producing\n",
        "a tensor with the shape of `[batch size, sequence length, embedding size]`, as expected\n",
        "by the attention layer for the transformer architecture.\n",
        "\n",
        "6. The method returns a tuple of three elements:  `encoded_transformer_features`,\n",
        "`encoded_other_features`, and `encoded_bert_features`."
      ]
    },
    {
      "cell_type": "code",
      "execution_count": null,
      "metadata": {
        "id": "t-nXlrK97FDr"
      },
      "outputs": [],
      "source": [
        "\n",
        "def encode_input_features(\n",
        "    inputs,\n",
        "    include_user_id=True,\n",
        "    include_user_features=True,\n",
        "    include_movie_features=True,\n",
        "):\n",
        "\n",
        "    encoded_transformer_features = []\n",
        "    encoded_other_features = []\n",
        "    encoded_bert_features = []\n",
        "\n",
        "    other_feature_names = []\n",
        "    if include_user_id:\n",
        "        other_feature_names.append(\"user_id\")\n",
        "    if include_user_features:\n",
        "        other_feature_names.extend(USER_FEATURES)\n",
        "\n",
        "    ## Encode user features\n",
        "    for feature_name in other_feature_names:\n",
        "        # Convert the string input values into integer indices.\n",
        "        vocabulary = CATEGORICAL_FEATURES_WITH_VOCABULARY[feature_name]\n",
        "        idx = StringLookup(vocabulary=vocabulary, mask_token=None, num_oov_indices=0)(\n",
        "            inputs[feature_name]\n",
        "        )\n",
        "        # Compute embedding dimensions\n",
        "        embedding_dims = int(math.sqrt(len(vocabulary)))\n",
        "        # Create an embedding layer with the specified dimensions.\n",
        "        embedding_encoder = layers.Embedding(\n",
        "            input_dim=len(vocabulary),\n",
        "            output_dim=embedding_dims,\n",
        "            name=f\"{feature_name}_embedding\",\n",
        "        )\n",
        "        # Convert the index values to embedding representations.\n",
        "        encoded_other_features.append(embedding_encoder(idx))\n",
        "\n",
        "    ## Create a single embedding vector for the user features\n",
        "    if len(encoded_other_features) > 1:\n",
        "        encoded_other_features = layers.concatenate(encoded_other_features)\n",
        "    elif len(encoded_other_features) == 1:\n",
        "        encoded_other_features = encoded_other_features[0]\n",
        "    else:\n",
        "        encoded_other_features = None\n",
        "\n",
        "    ## Create a movie embedding encoder\n",
        "    movie_vocabulary = CATEGORICAL_FEATURES_WITH_VOCABULARY[\"movie_id\"]\n",
        "    movie_embedding_dims = int(math.sqrt(len(movie_vocabulary)))\n",
        "    # Create a lookup to convert string values to integer indices.\n",
        "    movie_index_lookup = StringLookup(\n",
        "        vocabulary=movie_vocabulary,\n",
        "        mask_token=None,\n",
        "        num_oov_indices=0,\n",
        "        name=\"movie_index_lookup\",\n",
        "    )\n",
        "    # Create an embedding layer with the specified dimensions.\n",
        "    movie_embedding_encoder = layers.Embedding(\n",
        "        input_dim=len(movie_vocabulary),\n",
        "        output_dim=movie_embedding_dims,\n",
        "        name=f\"movie_embedding\",\n",
        "    )\n",
        "    # Create a vector lookup for movie genres.\n",
        "    genre_vectors = movies[genres].to_numpy()\n",
        "    movie_genres_lookup = layers.Embedding(\n",
        "        input_dim=genre_vectors.shape[0],\n",
        "        output_dim=genre_vectors.shape[1],\n",
        "        embeddings_initializer=tf.keras.initializers.Constant(genre_vectors),\n",
        "        trainable=False,\n",
        "        name=\"genres_vector\",\n",
        "    )\n",
        "    # Create a processing layer for genres.\n",
        "    movie_embedding_processor = layers.Dense(\n",
        "        units=movie_embedding_dims,\n",
        "        activation=\"relu\",\n",
        "        name=\"process_movie_embedding_with_genres\",\n",
        "    )\n",
        "\n",
        "    ## Define a function to encode a given movie id.\n",
        "    def encode_movie(movie_id):\n",
        "        # Convert the string input values into integer indices.\n",
        "        movie_idx = movie_index_lookup(movie_id)\n",
        "        movie_embedding = movie_embedding_encoder(movie_idx)\n",
        "        encoded_movie = movie_embedding\n",
        "        if include_movie_features:\n",
        "            movie_genres_vector = movie_genres_lookup(movie_idx)\n",
        "            encoded_movie = movie_embedding_processor(\n",
        "                layers.concatenate([movie_embedding, movie_genres_vector])\n",
        "            )\n",
        "        return encoded_movie\n",
        "\n",
        "    ## Encoding target_movie_id\n",
        "    target_movie_id = inputs[\"target_movie_id\"]\n",
        "    encoded_target_movie = encode_movie(target_movie_id)\n",
        "\n",
        "    ## Encoding sequence movie_ids.\n",
        "    sequence_movies_ids = inputs[\"sequence_movie_ids\"]\n",
        "    encoded_sequence_movies = encode_movie(sequence_movies_ids)\n",
        "    # Create positional embedding.\n",
        "    position_embedding_encoder = layers.Embedding(\n",
        "        input_dim=sequence_length,\n",
        "        output_dim=movie_embedding_dims,\n",
        "        name=\"position_embedding\",\n",
        "    )\n",
        "    positions = tf.range(start=0, limit=sequence_length - 1, delta=1)\n",
        "    encodded_positions = position_embedding_encoder(positions)\n",
        "    # Retrieve sequence ratings to incorporate them into the encoding of the movie.\n",
        "    sequence_ratings = tf.expand_dims(inputs[\"sequence_ratings\"], -1)\n",
        "\n",
        "    # Retrive other sequences to incorporate them into the encoding of the movie\n",
        "    sequence_budget = tf.expand_dims(inputs[\"sequence_budget\"], -1)\n",
        "    sequence_popularity = tf.expand_dims(inputs[\"sequence_popularity\"], -1)\n",
        "    sequence_revenue = tf.expand_dims(inputs[\"sequence_revenue\"], -1)\n",
        "    sequence_runtime = tf.expand_dims(inputs[\"sequence_runtime\"], -1)\n",
        "    sequence_vote_average = tf.expand_dims(inputs[\"sequence_vote_average\"], -1)\n",
        "    sequence_vote_count = tf.expand_dims(inputs[\"sequence_vote_count\"], -1)\n",
        "    # Add the positional encoding to the movie encodings and multiply them by rating and other sequences\n",
        "    encoded_sequence_movies_with_poistion_and_rating = layers.Multiply()(\n",
        "        [(encoded_sequence_movies + encodded_positions), sequence_ratings, sequence_budget, sequence_popularity,\n",
        "         sequence_revenue, sequence_runtime, sequence_vote_average, sequence_vote_count]\n",
        "    )\n",
        "\n",
        "    # Construct the transformer inputs.\n",
        "    for encoded_movie in tf.unstack(\n",
        "        encoded_sequence_movies_with_poistion_and_rating, axis=1\n",
        "    ):\n",
        "        encoded_transformer_features.append(tf.expand_dims(encoded_movie, 1))\n",
        "    encoded_transformer_features.append(encoded_target_movie)\n",
        "    \n",
        "    encoded_bert_features.append(inputs[\"target_embedding\"])                        \n",
        "\n",
        "    encoded_transformer_features = layers.concatenate(\n",
        "        encoded_transformer_features, axis=1\n",
        "    )\n",
        "\n",
        "    return encoded_transformer_features, encoded_other_features, encoded_bert_features\n"
      ]
    },
    {
      "cell_type": "markdown",
      "metadata": {
        "id": "iO2Bav5a7FDu"
      },
      "source": [
        "## Developing Model Architecture"
      ]
    },
    {
      "cell_type": "markdown",
      "source": [
        "A transformer layer is developed, with its output being concatenated to BERT outputs, which are then fed to a ReLU neural network."
      ],
      "metadata": {
        "id": "1QYpJI-cgrDG"
      }
    },
    {
      "cell_type": "code",
      "execution_count": null,
      "metadata": {
        "id": "Y39fSvw67FDu",
        "colab": {
          "base_uri": "https://localhost:8080/"
        },
        "outputId": "30f9a808-ba9d-467e-c252-878a7872c698"
      },
      "outputs": [
        {
          "output_type": "stream",
          "name": "stderr",
          "text": [
            "/usr/local/lib/python3.7/dist-packages/numpy/core/numeric.py:2446: FutureWarning: elementwise comparison failed; returning scalar instead, but in the future will perform elementwise comparison\n",
            "  return bool(asarray(a1 == a2).all())\n"
          ]
        }
      ],
      "source": [
        "include_user_id = False\n",
        "include_user_features = False\n",
        "include_movie_features = False\n",
        "\n",
        "hidden_units = [256, 128, 128]\n",
        "dropout_rate = 0.5\n",
        "num_heads = 3\n",
        "\n",
        "\n",
        "def create_model():\n",
        "    inputs = create_model_inputs()\n",
        "    transformer_features, other_features, bert_features = encode_input_features(\n",
        "        inputs, include_user_id, include_user_features, include_movie_features\n",
        "    )\n",
        "\n",
        "    # Create a multi-headed attention layer.\n",
        "    attention_output = layers.MultiHeadAttention(\n",
        "        num_heads=num_heads, key_dim=transformer_features.shape[2], dropout=dropout_rate\n",
        "    )(transformer_features, transformer_features)\n",
        "\n",
        "    # Transformer block.\n",
        "    attention_output = layers.Dropout(dropout_rate)(attention_output)\n",
        "    x1 = layers.Add()([transformer_features, attention_output])\n",
        "    x1 = layers.LayerNormalization()(x1)\n",
        "    x2 = layers.LeakyReLU()(x1)\n",
        "    x2 = layers.Dense(units=x2.shape[-1])(x2)\n",
        "    x2 = layers.Dropout(dropout_rate)(x2)\n",
        "    transformer_features = layers.Add()([x1, x2])\n",
        "    transformer_features = layers.LayerNormalization()(transformer_features)\n",
        "    features = layers.Flatten()(transformer_features)\n",
        "    features = layers.concatenate(\n",
        "        [features, layers.Reshape([bert_features[0].shape[-1]])(bert_features[0])]\n",
        "    )\n",
        "\n",
        "    # Included the other features.\n",
        "    if other_features is not None:\n",
        "        features = layers.concatenate(\n",
        "            [features, layers.Reshape([other_features.shape[-1]])(other_features)]\n",
        "        )\n",
        "\n",
        "    # Fully-connected layers.\n",
        "    for num_units in hidden_units:\n",
        "        features = layers.Dense(num_units)(features)\n",
        "        features = layers.BatchNormalization()(features)\n",
        "        features = layers.ReLU()(features)\n",
        "        features = layers.Dropout(dropout_rate)(features)\n",
        "\n",
        "    outputs = layers.Dense(units=1)(features)\n",
        "    model = keras.Model(inputs=inputs, outputs=outputs)\n",
        "    return model\n",
        "\n",
        "\n",
        "model = create_model()"
      ]
    },
    {
      "cell_type": "markdown",
      "metadata": {
        "id": "X5BmiTH-7FDv"
      },
      "source": [
        "## Training & Testing\n",
        "\n"
      ]
    },
    {
      "cell_type": "code",
      "execution_count": null,
      "metadata": {
        "id": "P5SbEgoQ7FDw",
        "colab": {
          "base_uri": "https://localhost:8080/"
        },
        "outputId": "83809cf7-38aa-4aba-b6ed-2de75227fc77"
      },
      "outputs": [
        {
          "output_type": "stream",
          "name": "stdout",
          "text": [
            "Epoch 1/5\n",
            "WARNING:tensorflow:Model was constructed with shape (None, 1, 768) for input KerasTensor(type_spec=TensorSpec(shape=(None, 1, 768), dtype=tf.float32, name='target_embedding'), name='target_embedding', description=\"created by layer 'target_embedding'\"), but it was called on an input with incompatible shape (None, None).\n"
          ]
        },
        {
          "output_type": "stream",
          "name": "stderr",
          "text": [
            "/usr/local/lib/python3.7/dist-packages/keras/engine/functional.py:559: UserWarning: Input dict contained keys ['budget', 'popularity', 'overview', 'embeddings', 'revenue', 'runtime', 'vote_average', 'vote_count'] which did not match any model input. They will be ignored by the model.\n",
            "  inputs = self._flatten_to_reference_inputs(inputs)\n"
          ]
        },
        {
          "output_type": "stream",
          "name": "stdout",
          "text": [
            "WARNING:tensorflow:Model was constructed with shape (None, 1, 768) for input KerasTensor(type_spec=TensorSpec(shape=(None, 1, 768), dtype=tf.float32, name='target_embedding'), name='target_embedding', description=\"created by layer 'target_embedding'\"), but it was called on an input with incompatible shape (None, None).\n",
            "1096/1096 [==============================] - 101s 86ms/step - loss: 1.3923 - mean_absolute_error: 0.9596\n",
            "Epoch 2/5\n",
            "1096/1096 [==============================] - 96s 86ms/step - loss: 1.2522 - mean_absolute_error: 0.9291\n",
            "Epoch 3/5\n",
            "1096/1096 [==============================] - 97s 86ms/step - loss: 1.2225 - mean_absolute_error: 0.9113\n",
            "Epoch 4/5\n",
            "1096/1096 [==============================] - 96s 86ms/step - loss: 1.1265 - mean_absolute_error: 0.8475\n",
            "Epoch 5/5\n",
            "1096/1096 [==============================] - 96s 86ms/step - loss: 1.0775 - mean_absolute_error: 0.8239\n",
            "WARNING:tensorflow:Model was constructed with shape (None, 1, 768) for input KerasTensor(type_spec=TensorSpec(shape=(None, 1, 768), dtype=tf.float32, name='target_embedding'), name='target_embedding', description=\"created by layer 'target_embedding'\"), but it was called on an input with incompatible shape (None, None).\n",
            "Test MAE: 0.793\n"
          ]
        }
      ],
      "source": [
        "# Compile the model.\n",
        "\n",
        "\n",
        "#model.compile(\n",
        "#    optimizer=keras.optimizers.Adagrad(learning_rate=0.01),\n",
        "#    loss=keras.losses.MeanSquaredError(),\n",
        "#    metrics=[keras.metrics.MeanAbsoluteError()],\n",
        "#)\n",
        "\n",
        "model.compile(\n",
        "    optimizer=keras.optimizers.SGD(learning_rate=0.01, momentum=0.9, clipnorm=1.0),\n",
        "    loss = keras.losses.MeanSquaredError(),\n",
        "    metrics=[keras.metrics.MeanAbsoluteError()],\n",
        ")\n",
        "\n",
        "# Read the training data.\n",
        "train_dataset = get_dataset_from_csv(\"train_data.csv\", shuffle=True, batch_size=265)\n",
        "\n",
        "# Fit the model with the training data.\n",
        "model.fit(train_dataset, epochs=5)\n",
        "\n",
        "# Read the test data.\n",
        "test_dataset = get_dataset_from_csv(\"test_data.csv\", batch_size=265)\n",
        "\n",
        "# Evaluate the model on the test data.\n",
        "_, rmse = model.evaluate(test_dataset, verbose=0)\n",
        "print(f\"Test MAE: {round(rmse, 3)}\")"
      ]
    },
    {
      "cell_type": "markdown",
      "metadata": {
        "id": "CpCA_hkt7FDw"
      },
      "source": [
        "Multiple optimizers were considered, but the most effective appeared to be SGD with momentum and clipnorm applied."
      ]
    },
    {
      "cell_type": "markdown",
      "metadata": {
        "id": "-8xNfdaq7FDx"
      },
      "source": [
        "## Conclusion\n",
        "\n",
        "The BST model uses the Transformer layer in its architecture to capture the sequential signals underlying\n",
        "users’ behavior sequences for recommendation.\n",
        "\n",
        "This was an approach to combining data that incorporated numerical, textual, and categorical features. Each of these needed to be approached in different ways, and preprocessing constituted the majority of this project. I found that it was more effective to maintain the numerical features, as opposed to bucketizing and treating them as categorical.\n",
        "\n",
        "There appeared to be some room for interpretation in the directions; the provided paper that utilizes hidden layer states of BERT actually extracts the embeddings and uses them as the embedding layer for the neural network classifier (regression model in this project). However, the architecture described in the instructions appears to differ in that the goal is to concatenate BERT outputs with the transformer output and then feed it into the neural network, as opposed to having the embeddings be a part of the neural network architecture itself.\n"
      ]
    }
  ],
  "metadata": {
    "colab": {
      "collapsed_sections": [],
      "name": "BERT_Transformer_ReLU",
      "provenance": [],
      "machine_shape": "hm"
    },
    "kernelspec": {
      "display_name": "Python 3",
      "language": "python",
      "name": "python3"
    },
    "language_info": {
      "codemirror_mode": {
        "name": "ipython",
        "version": 3
      },
      "file_extension": ".py",
      "mimetype": "text/x-python",
      "name": "python",
      "nbconvert_exporter": "python",
      "pygments_lexer": "ipython3",
      "version": "3.7.0"
    },
    "accelerator": "GPU",
    "widgets": {
      "application/vnd.jupyter.widget-state+json": {
        "4c61fff0b05f4869b7c69f8cd55fb41c": {
          "model_module": "@jupyter-widgets/controls",
          "model_name": "HBoxModel",
          "model_module_version": "1.5.0",
          "state": {
            "_dom_classes": [],
            "_model_module": "@jupyter-widgets/controls",
            "_model_module_version": "1.5.0",
            "_model_name": "HBoxModel",
            "_view_count": null,
            "_view_module": "@jupyter-widgets/controls",
            "_view_module_version": "1.5.0",
            "_view_name": "HBoxView",
            "box_style": "",
            "children": [
              "IPY_MODEL_1e4d1d92726d472f99a5152167fba198",
              "IPY_MODEL_c30c34fee3a447cab6e803ee525f5715",
              "IPY_MODEL_b7ac532d87a6419d9c2c7733b4f9f7c7"
            ],
            "layout": "IPY_MODEL_044f93f780ee47fc87495dcb7f6a9394"
          }
        },
        "1e4d1d92726d472f99a5152167fba198": {
          "model_module": "@jupyter-widgets/controls",
          "model_name": "HTMLModel",
          "model_module_version": "1.5.0",
          "state": {
            "_dom_classes": [],
            "_model_module": "@jupyter-widgets/controls",
            "_model_module_version": "1.5.0",
            "_model_name": "HTMLModel",
            "_view_count": null,
            "_view_module": "@jupyter-widgets/controls",
            "_view_module_version": "1.5.0",
            "_view_name": "HTMLView",
            "description": "",
            "description_tooltip": null,
            "layout": "IPY_MODEL_45706d7523a14b7a96669fb7567af69b",
            "placeholder": "​",
            "style": "IPY_MODEL_27d0d48b509e42fa8076dc92326ecf4a",
            "value": "Downloading: 100%"
          }
        },
        "c30c34fee3a447cab6e803ee525f5715": {
          "model_module": "@jupyter-widgets/controls",
          "model_name": "FloatProgressModel",
          "model_module_version": "1.5.0",
          "state": {
            "_dom_classes": [],
            "_model_module": "@jupyter-widgets/controls",
            "_model_module_version": "1.5.0",
            "_model_name": "FloatProgressModel",
            "_view_count": null,
            "_view_module": "@jupyter-widgets/controls",
            "_view_module_version": "1.5.0",
            "_view_name": "ProgressView",
            "bar_style": "success",
            "description": "",
            "description_tooltip": null,
            "layout": "IPY_MODEL_f4a2b638ce37490895bb7e8a7f0c12f7",
            "max": 231508,
            "min": 0,
            "orientation": "horizontal",
            "style": "IPY_MODEL_85548c016d00473c96ae4d9ef7d54032",
            "value": 231508
          }
        },
        "b7ac532d87a6419d9c2c7733b4f9f7c7": {
          "model_module": "@jupyter-widgets/controls",
          "model_name": "HTMLModel",
          "model_module_version": "1.5.0",
          "state": {
            "_dom_classes": [],
            "_model_module": "@jupyter-widgets/controls",
            "_model_module_version": "1.5.0",
            "_model_name": "HTMLModel",
            "_view_count": null,
            "_view_module": "@jupyter-widgets/controls",
            "_view_module_version": "1.5.0",
            "_view_name": "HTMLView",
            "description": "",
            "description_tooltip": null,
            "layout": "IPY_MODEL_4378f2abe9b64eaa82174c5510880c3a",
            "placeholder": "​",
            "style": "IPY_MODEL_1a3f13fe7e8c49caa2e21ca4aaa997c8",
            "value": " 226k/226k [00:00&lt;00:00, 340kB/s]"
          }
        },
        "044f93f780ee47fc87495dcb7f6a9394": {
          "model_module": "@jupyter-widgets/base",
          "model_name": "LayoutModel",
          "model_module_version": "1.2.0",
          "state": {
            "_model_module": "@jupyter-widgets/base",
            "_model_module_version": "1.2.0",
            "_model_name": "LayoutModel",
            "_view_count": null,
            "_view_module": "@jupyter-widgets/base",
            "_view_module_version": "1.2.0",
            "_view_name": "LayoutView",
            "align_content": null,
            "align_items": null,
            "align_self": null,
            "border": null,
            "bottom": null,
            "display": null,
            "flex": null,
            "flex_flow": null,
            "grid_area": null,
            "grid_auto_columns": null,
            "grid_auto_flow": null,
            "grid_auto_rows": null,
            "grid_column": null,
            "grid_gap": null,
            "grid_row": null,
            "grid_template_areas": null,
            "grid_template_columns": null,
            "grid_template_rows": null,
            "height": null,
            "justify_content": null,
            "justify_items": null,
            "left": null,
            "margin": null,
            "max_height": null,
            "max_width": null,
            "min_height": null,
            "min_width": null,
            "object_fit": null,
            "object_position": null,
            "order": null,
            "overflow": null,
            "overflow_x": null,
            "overflow_y": null,
            "padding": null,
            "right": null,
            "top": null,
            "visibility": null,
            "width": null
          }
        },
        "45706d7523a14b7a96669fb7567af69b": {
          "model_module": "@jupyter-widgets/base",
          "model_name": "LayoutModel",
          "model_module_version": "1.2.0",
          "state": {
            "_model_module": "@jupyter-widgets/base",
            "_model_module_version": "1.2.0",
            "_model_name": "LayoutModel",
            "_view_count": null,
            "_view_module": "@jupyter-widgets/base",
            "_view_module_version": "1.2.0",
            "_view_name": "LayoutView",
            "align_content": null,
            "align_items": null,
            "align_self": null,
            "border": null,
            "bottom": null,
            "display": null,
            "flex": null,
            "flex_flow": null,
            "grid_area": null,
            "grid_auto_columns": null,
            "grid_auto_flow": null,
            "grid_auto_rows": null,
            "grid_column": null,
            "grid_gap": null,
            "grid_row": null,
            "grid_template_areas": null,
            "grid_template_columns": null,
            "grid_template_rows": null,
            "height": null,
            "justify_content": null,
            "justify_items": null,
            "left": null,
            "margin": null,
            "max_height": null,
            "max_width": null,
            "min_height": null,
            "min_width": null,
            "object_fit": null,
            "object_position": null,
            "order": null,
            "overflow": null,
            "overflow_x": null,
            "overflow_y": null,
            "padding": null,
            "right": null,
            "top": null,
            "visibility": null,
            "width": null
          }
        },
        "27d0d48b509e42fa8076dc92326ecf4a": {
          "model_module": "@jupyter-widgets/controls",
          "model_name": "DescriptionStyleModel",
          "model_module_version": "1.5.0",
          "state": {
            "_model_module": "@jupyter-widgets/controls",
            "_model_module_version": "1.5.0",
            "_model_name": "DescriptionStyleModel",
            "_view_count": null,
            "_view_module": "@jupyter-widgets/base",
            "_view_module_version": "1.2.0",
            "_view_name": "StyleView",
            "description_width": ""
          }
        },
        "f4a2b638ce37490895bb7e8a7f0c12f7": {
          "model_module": "@jupyter-widgets/base",
          "model_name": "LayoutModel",
          "model_module_version": "1.2.0",
          "state": {
            "_model_module": "@jupyter-widgets/base",
            "_model_module_version": "1.2.0",
            "_model_name": "LayoutModel",
            "_view_count": null,
            "_view_module": "@jupyter-widgets/base",
            "_view_module_version": "1.2.0",
            "_view_name": "LayoutView",
            "align_content": null,
            "align_items": null,
            "align_self": null,
            "border": null,
            "bottom": null,
            "display": null,
            "flex": null,
            "flex_flow": null,
            "grid_area": null,
            "grid_auto_columns": null,
            "grid_auto_flow": null,
            "grid_auto_rows": null,
            "grid_column": null,
            "grid_gap": null,
            "grid_row": null,
            "grid_template_areas": null,
            "grid_template_columns": null,
            "grid_template_rows": null,
            "height": null,
            "justify_content": null,
            "justify_items": null,
            "left": null,
            "margin": null,
            "max_height": null,
            "max_width": null,
            "min_height": null,
            "min_width": null,
            "object_fit": null,
            "object_position": null,
            "order": null,
            "overflow": null,
            "overflow_x": null,
            "overflow_y": null,
            "padding": null,
            "right": null,
            "top": null,
            "visibility": null,
            "width": null
          }
        },
        "85548c016d00473c96ae4d9ef7d54032": {
          "model_module": "@jupyter-widgets/controls",
          "model_name": "ProgressStyleModel",
          "model_module_version": "1.5.0",
          "state": {
            "_model_module": "@jupyter-widgets/controls",
            "_model_module_version": "1.5.0",
            "_model_name": "ProgressStyleModel",
            "_view_count": null,
            "_view_module": "@jupyter-widgets/base",
            "_view_module_version": "1.2.0",
            "_view_name": "StyleView",
            "bar_color": null,
            "description_width": ""
          }
        },
        "4378f2abe9b64eaa82174c5510880c3a": {
          "model_module": "@jupyter-widgets/base",
          "model_name": "LayoutModel",
          "model_module_version": "1.2.0",
          "state": {
            "_model_module": "@jupyter-widgets/base",
            "_model_module_version": "1.2.0",
            "_model_name": "LayoutModel",
            "_view_count": null,
            "_view_module": "@jupyter-widgets/base",
            "_view_module_version": "1.2.0",
            "_view_name": "LayoutView",
            "align_content": null,
            "align_items": null,
            "align_self": null,
            "border": null,
            "bottom": null,
            "display": null,
            "flex": null,
            "flex_flow": null,
            "grid_area": null,
            "grid_auto_columns": null,
            "grid_auto_flow": null,
            "grid_auto_rows": null,
            "grid_column": null,
            "grid_gap": null,
            "grid_row": null,
            "grid_template_areas": null,
            "grid_template_columns": null,
            "grid_template_rows": null,
            "height": null,
            "justify_content": null,
            "justify_items": null,
            "left": null,
            "margin": null,
            "max_height": null,
            "max_width": null,
            "min_height": null,
            "min_width": null,
            "object_fit": null,
            "object_position": null,
            "order": null,
            "overflow": null,
            "overflow_x": null,
            "overflow_y": null,
            "padding": null,
            "right": null,
            "top": null,
            "visibility": null,
            "width": null
          }
        },
        "1a3f13fe7e8c49caa2e21ca4aaa997c8": {
          "model_module": "@jupyter-widgets/controls",
          "model_name": "DescriptionStyleModel",
          "model_module_version": "1.5.0",
          "state": {
            "_model_module": "@jupyter-widgets/controls",
            "_model_module_version": "1.5.0",
            "_model_name": "DescriptionStyleModel",
            "_view_count": null,
            "_view_module": "@jupyter-widgets/base",
            "_view_module_version": "1.2.0",
            "_view_name": "StyleView",
            "description_width": ""
          }
        },
        "c276a722be894acf9646870d78756431": {
          "model_module": "@jupyter-widgets/controls",
          "model_name": "HBoxModel",
          "model_module_version": "1.5.0",
          "state": {
            "_dom_classes": [],
            "_model_module": "@jupyter-widgets/controls",
            "_model_module_version": "1.5.0",
            "_model_name": "HBoxModel",
            "_view_count": null,
            "_view_module": "@jupyter-widgets/controls",
            "_view_module_version": "1.5.0",
            "_view_name": "HBoxView",
            "box_style": "",
            "children": [
              "IPY_MODEL_1d6df8645f5a46ed8da1164befc0d13d",
              "IPY_MODEL_2206a64ad2114f5fa81359e5892f7676",
              "IPY_MODEL_dd8ec2becf9d4d8a9310c71580de80c0"
            ],
            "layout": "IPY_MODEL_f805274f44ca4289892a5a6aac59e5f6"
          }
        },
        "1d6df8645f5a46ed8da1164befc0d13d": {
          "model_module": "@jupyter-widgets/controls",
          "model_name": "HTMLModel",
          "model_module_version": "1.5.0",
          "state": {
            "_dom_classes": [],
            "_model_module": "@jupyter-widgets/controls",
            "_model_module_version": "1.5.0",
            "_model_name": "HTMLModel",
            "_view_count": null,
            "_view_module": "@jupyter-widgets/controls",
            "_view_module_version": "1.5.0",
            "_view_name": "HTMLView",
            "description": "",
            "description_tooltip": null,
            "layout": "IPY_MODEL_7ef0514525514ec3b961515d4592246b",
            "placeholder": "​",
            "style": "IPY_MODEL_6e47e9a99c1e422ba61955b24d448562",
            "value": "Downloading: 100%"
          }
        },
        "2206a64ad2114f5fa81359e5892f7676": {
          "model_module": "@jupyter-widgets/controls",
          "model_name": "FloatProgressModel",
          "model_module_version": "1.5.0",
          "state": {
            "_dom_classes": [],
            "_model_module": "@jupyter-widgets/controls",
            "_model_module_version": "1.5.0",
            "_model_name": "FloatProgressModel",
            "_view_count": null,
            "_view_module": "@jupyter-widgets/controls",
            "_view_module_version": "1.5.0",
            "_view_name": "ProgressView",
            "bar_style": "success",
            "description": "",
            "description_tooltip": null,
            "layout": "IPY_MODEL_abdf96763e2d4edbb31b25232e3d8963",
            "max": 28,
            "min": 0,
            "orientation": "horizontal",
            "style": "IPY_MODEL_8ccfd3e08a5040eeabd85a2601c6949b",
            "value": 28
          }
        },
        "dd8ec2becf9d4d8a9310c71580de80c0": {
          "model_module": "@jupyter-widgets/controls",
          "model_name": "HTMLModel",
          "model_module_version": "1.5.0",
          "state": {
            "_dom_classes": [],
            "_model_module": "@jupyter-widgets/controls",
            "_model_module_version": "1.5.0",
            "_model_name": "HTMLModel",
            "_view_count": null,
            "_view_module": "@jupyter-widgets/controls",
            "_view_module_version": "1.5.0",
            "_view_name": "HTMLView",
            "description": "",
            "description_tooltip": null,
            "layout": "IPY_MODEL_49c205098b504e13a7b8855a9d4cc78b",
            "placeholder": "​",
            "style": "IPY_MODEL_1456b7b0982c4efc987d5827eee6e45b",
            "value": " 28.0/28.0 [00:00&lt;00:00, 1.21kB/s]"
          }
        },
        "f805274f44ca4289892a5a6aac59e5f6": {
          "model_module": "@jupyter-widgets/base",
          "model_name": "LayoutModel",
          "model_module_version": "1.2.0",
          "state": {
            "_model_module": "@jupyter-widgets/base",
            "_model_module_version": "1.2.0",
            "_model_name": "LayoutModel",
            "_view_count": null,
            "_view_module": "@jupyter-widgets/base",
            "_view_module_version": "1.2.0",
            "_view_name": "LayoutView",
            "align_content": null,
            "align_items": null,
            "align_self": null,
            "border": null,
            "bottom": null,
            "display": null,
            "flex": null,
            "flex_flow": null,
            "grid_area": null,
            "grid_auto_columns": null,
            "grid_auto_flow": null,
            "grid_auto_rows": null,
            "grid_column": null,
            "grid_gap": null,
            "grid_row": null,
            "grid_template_areas": null,
            "grid_template_columns": null,
            "grid_template_rows": null,
            "height": null,
            "justify_content": null,
            "justify_items": null,
            "left": null,
            "margin": null,
            "max_height": null,
            "max_width": null,
            "min_height": null,
            "min_width": null,
            "object_fit": null,
            "object_position": null,
            "order": null,
            "overflow": null,
            "overflow_x": null,
            "overflow_y": null,
            "padding": null,
            "right": null,
            "top": null,
            "visibility": null,
            "width": null
          }
        },
        "7ef0514525514ec3b961515d4592246b": {
          "model_module": "@jupyter-widgets/base",
          "model_name": "LayoutModel",
          "model_module_version": "1.2.0",
          "state": {
            "_model_module": "@jupyter-widgets/base",
            "_model_module_version": "1.2.0",
            "_model_name": "LayoutModel",
            "_view_count": null,
            "_view_module": "@jupyter-widgets/base",
            "_view_module_version": "1.2.0",
            "_view_name": "LayoutView",
            "align_content": null,
            "align_items": null,
            "align_self": null,
            "border": null,
            "bottom": null,
            "display": null,
            "flex": null,
            "flex_flow": null,
            "grid_area": null,
            "grid_auto_columns": null,
            "grid_auto_flow": null,
            "grid_auto_rows": null,
            "grid_column": null,
            "grid_gap": null,
            "grid_row": null,
            "grid_template_areas": null,
            "grid_template_columns": null,
            "grid_template_rows": null,
            "height": null,
            "justify_content": null,
            "justify_items": null,
            "left": null,
            "margin": null,
            "max_height": null,
            "max_width": null,
            "min_height": null,
            "min_width": null,
            "object_fit": null,
            "object_position": null,
            "order": null,
            "overflow": null,
            "overflow_x": null,
            "overflow_y": null,
            "padding": null,
            "right": null,
            "top": null,
            "visibility": null,
            "width": null
          }
        },
        "6e47e9a99c1e422ba61955b24d448562": {
          "model_module": "@jupyter-widgets/controls",
          "model_name": "DescriptionStyleModel",
          "model_module_version": "1.5.0",
          "state": {
            "_model_module": "@jupyter-widgets/controls",
            "_model_module_version": "1.5.0",
            "_model_name": "DescriptionStyleModel",
            "_view_count": null,
            "_view_module": "@jupyter-widgets/base",
            "_view_module_version": "1.2.0",
            "_view_name": "StyleView",
            "description_width": ""
          }
        },
        "abdf96763e2d4edbb31b25232e3d8963": {
          "model_module": "@jupyter-widgets/base",
          "model_name": "LayoutModel",
          "model_module_version": "1.2.0",
          "state": {
            "_model_module": "@jupyter-widgets/base",
            "_model_module_version": "1.2.0",
            "_model_name": "LayoutModel",
            "_view_count": null,
            "_view_module": "@jupyter-widgets/base",
            "_view_module_version": "1.2.0",
            "_view_name": "LayoutView",
            "align_content": null,
            "align_items": null,
            "align_self": null,
            "border": null,
            "bottom": null,
            "display": null,
            "flex": null,
            "flex_flow": null,
            "grid_area": null,
            "grid_auto_columns": null,
            "grid_auto_flow": null,
            "grid_auto_rows": null,
            "grid_column": null,
            "grid_gap": null,
            "grid_row": null,
            "grid_template_areas": null,
            "grid_template_columns": null,
            "grid_template_rows": null,
            "height": null,
            "justify_content": null,
            "justify_items": null,
            "left": null,
            "margin": null,
            "max_height": null,
            "max_width": null,
            "min_height": null,
            "min_width": null,
            "object_fit": null,
            "object_position": null,
            "order": null,
            "overflow": null,
            "overflow_x": null,
            "overflow_y": null,
            "padding": null,
            "right": null,
            "top": null,
            "visibility": null,
            "width": null
          }
        },
        "8ccfd3e08a5040eeabd85a2601c6949b": {
          "model_module": "@jupyter-widgets/controls",
          "model_name": "ProgressStyleModel",
          "model_module_version": "1.5.0",
          "state": {
            "_model_module": "@jupyter-widgets/controls",
            "_model_module_version": "1.5.0",
            "_model_name": "ProgressStyleModel",
            "_view_count": null,
            "_view_module": "@jupyter-widgets/base",
            "_view_module_version": "1.2.0",
            "_view_name": "StyleView",
            "bar_color": null,
            "description_width": ""
          }
        },
        "49c205098b504e13a7b8855a9d4cc78b": {
          "model_module": "@jupyter-widgets/base",
          "model_name": "LayoutModel",
          "model_module_version": "1.2.0",
          "state": {
            "_model_module": "@jupyter-widgets/base",
            "_model_module_version": "1.2.0",
            "_model_name": "LayoutModel",
            "_view_count": null,
            "_view_module": "@jupyter-widgets/base",
            "_view_module_version": "1.2.0",
            "_view_name": "LayoutView",
            "align_content": null,
            "align_items": null,
            "align_self": null,
            "border": null,
            "bottom": null,
            "display": null,
            "flex": null,
            "flex_flow": null,
            "grid_area": null,
            "grid_auto_columns": null,
            "grid_auto_flow": null,
            "grid_auto_rows": null,
            "grid_column": null,
            "grid_gap": null,
            "grid_row": null,
            "grid_template_areas": null,
            "grid_template_columns": null,
            "grid_template_rows": null,
            "height": null,
            "justify_content": null,
            "justify_items": null,
            "left": null,
            "margin": null,
            "max_height": null,
            "max_width": null,
            "min_height": null,
            "min_width": null,
            "object_fit": null,
            "object_position": null,
            "order": null,
            "overflow": null,
            "overflow_x": null,
            "overflow_y": null,
            "padding": null,
            "right": null,
            "top": null,
            "visibility": null,
            "width": null
          }
        },
        "1456b7b0982c4efc987d5827eee6e45b": {
          "model_module": "@jupyter-widgets/controls",
          "model_name": "DescriptionStyleModel",
          "model_module_version": "1.5.0",
          "state": {
            "_model_module": "@jupyter-widgets/controls",
            "_model_module_version": "1.5.0",
            "_model_name": "DescriptionStyleModel",
            "_view_count": null,
            "_view_module": "@jupyter-widgets/base",
            "_view_module_version": "1.2.0",
            "_view_name": "StyleView",
            "description_width": ""
          }
        },
        "4a4795d5c2b44be2947e4c3d0de76e26": {
          "model_module": "@jupyter-widgets/controls",
          "model_name": "HBoxModel",
          "model_module_version": "1.5.0",
          "state": {
            "_dom_classes": [],
            "_model_module": "@jupyter-widgets/controls",
            "_model_module_version": "1.5.0",
            "_model_name": "HBoxModel",
            "_view_count": null,
            "_view_module": "@jupyter-widgets/controls",
            "_view_module_version": "1.5.0",
            "_view_name": "HBoxView",
            "box_style": "",
            "children": [
              "IPY_MODEL_7b592b28ef4741928b68163c46de1d2d",
              "IPY_MODEL_300760c8d2d74ab3a2b6d90e4d67e3c8",
              "IPY_MODEL_59c22caa9032478fbb78c2583bdc6a1f"
            ],
            "layout": "IPY_MODEL_9cd73e7008814cba9b1cfd26c69bf166"
          }
        },
        "7b592b28ef4741928b68163c46de1d2d": {
          "model_module": "@jupyter-widgets/controls",
          "model_name": "HTMLModel",
          "model_module_version": "1.5.0",
          "state": {
            "_dom_classes": [],
            "_model_module": "@jupyter-widgets/controls",
            "_model_module_version": "1.5.0",
            "_model_name": "HTMLModel",
            "_view_count": null,
            "_view_module": "@jupyter-widgets/controls",
            "_view_module_version": "1.5.0",
            "_view_name": "HTMLView",
            "description": "",
            "description_tooltip": null,
            "layout": "IPY_MODEL_3737eb8ea531422ab82c0a3199e6a883",
            "placeholder": "​",
            "style": "IPY_MODEL_f9f123cec903428c997ee023e496fe6d",
            "value": "Downloading: 100%"
          }
        },
        "300760c8d2d74ab3a2b6d90e4d67e3c8": {
          "model_module": "@jupyter-widgets/controls",
          "model_name": "FloatProgressModel",
          "model_module_version": "1.5.0",
          "state": {
            "_dom_classes": [],
            "_model_module": "@jupyter-widgets/controls",
            "_model_module_version": "1.5.0",
            "_model_name": "FloatProgressModel",
            "_view_count": null,
            "_view_module": "@jupyter-widgets/controls",
            "_view_module_version": "1.5.0",
            "_view_name": "ProgressView",
            "bar_style": "success",
            "description": "",
            "description_tooltip": null,
            "layout": "IPY_MODEL_ad82d3447b7e4a2b86c7aabf9d0a0de9",
            "max": 570,
            "min": 0,
            "orientation": "horizontal",
            "style": "IPY_MODEL_eb97a4a711884aaeb2712f4c34ae7d07",
            "value": 570
          }
        },
        "59c22caa9032478fbb78c2583bdc6a1f": {
          "model_module": "@jupyter-widgets/controls",
          "model_name": "HTMLModel",
          "model_module_version": "1.5.0",
          "state": {
            "_dom_classes": [],
            "_model_module": "@jupyter-widgets/controls",
            "_model_module_version": "1.5.0",
            "_model_name": "HTMLModel",
            "_view_count": null,
            "_view_module": "@jupyter-widgets/controls",
            "_view_module_version": "1.5.0",
            "_view_name": "HTMLView",
            "description": "",
            "description_tooltip": null,
            "layout": "IPY_MODEL_5a6fd499fa1e42a48bd29c70fa393606",
            "placeholder": "​",
            "style": "IPY_MODEL_1711ae14011e44a49f4eebaa5383002d",
            "value": " 570/570 [00:00&lt;00:00, 20.1kB/s]"
          }
        },
        "9cd73e7008814cba9b1cfd26c69bf166": {
          "model_module": "@jupyter-widgets/base",
          "model_name": "LayoutModel",
          "model_module_version": "1.2.0",
          "state": {
            "_model_module": "@jupyter-widgets/base",
            "_model_module_version": "1.2.0",
            "_model_name": "LayoutModel",
            "_view_count": null,
            "_view_module": "@jupyter-widgets/base",
            "_view_module_version": "1.2.0",
            "_view_name": "LayoutView",
            "align_content": null,
            "align_items": null,
            "align_self": null,
            "border": null,
            "bottom": null,
            "display": null,
            "flex": null,
            "flex_flow": null,
            "grid_area": null,
            "grid_auto_columns": null,
            "grid_auto_flow": null,
            "grid_auto_rows": null,
            "grid_column": null,
            "grid_gap": null,
            "grid_row": null,
            "grid_template_areas": null,
            "grid_template_columns": null,
            "grid_template_rows": null,
            "height": null,
            "justify_content": null,
            "justify_items": null,
            "left": null,
            "margin": null,
            "max_height": null,
            "max_width": null,
            "min_height": null,
            "min_width": null,
            "object_fit": null,
            "object_position": null,
            "order": null,
            "overflow": null,
            "overflow_x": null,
            "overflow_y": null,
            "padding": null,
            "right": null,
            "top": null,
            "visibility": null,
            "width": null
          }
        },
        "3737eb8ea531422ab82c0a3199e6a883": {
          "model_module": "@jupyter-widgets/base",
          "model_name": "LayoutModel",
          "model_module_version": "1.2.0",
          "state": {
            "_model_module": "@jupyter-widgets/base",
            "_model_module_version": "1.2.0",
            "_model_name": "LayoutModel",
            "_view_count": null,
            "_view_module": "@jupyter-widgets/base",
            "_view_module_version": "1.2.0",
            "_view_name": "LayoutView",
            "align_content": null,
            "align_items": null,
            "align_self": null,
            "border": null,
            "bottom": null,
            "display": null,
            "flex": null,
            "flex_flow": null,
            "grid_area": null,
            "grid_auto_columns": null,
            "grid_auto_flow": null,
            "grid_auto_rows": null,
            "grid_column": null,
            "grid_gap": null,
            "grid_row": null,
            "grid_template_areas": null,
            "grid_template_columns": null,
            "grid_template_rows": null,
            "height": null,
            "justify_content": null,
            "justify_items": null,
            "left": null,
            "margin": null,
            "max_height": null,
            "max_width": null,
            "min_height": null,
            "min_width": null,
            "object_fit": null,
            "object_position": null,
            "order": null,
            "overflow": null,
            "overflow_x": null,
            "overflow_y": null,
            "padding": null,
            "right": null,
            "top": null,
            "visibility": null,
            "width": null
          }
        },
        "f9f123cec903428c997ee023e496fe6d": {
          "model_module": "@jupyter-widgets/controls",
          "model_name": "DescriptionStyleModel",
          "model_module_version": "1.5.0",
          "state": {
            "_model_module": "@jupyter-widgets/controls",
            "_model_module_version": "1.5.0",
            "_model_name": "DescriptionStyleModel",
            "_view_count": null,
            "_view_module": "@jupyter-widgets/base",
            "_view_module_version": "1.2.0",
            "_view_name": "StyleView",
            "description_width": ""
          }
        },
        "ad82d3447b7e4a2b86c7aabf9d0a0de9": {
          "model_module": "@jupyter-widgets/base",
          "model_name": "LayoutModel",
          "model_module_version": "1.2.0",
          "state": {
            "_model_module": "@jupyter-widgets/base",
            "_model_module_version": "1.2.0",
            "_model_name": "LayoutModel",
            "_view_count": null,
            "_view_module": "@jupyter-widgets/base",
            "_view_module_version": "1.2.0",
            "_view_name": "LayoutView",
            "align_content": null,
            "align_items": null,
            "align_self": null,
            "border": null,
            "bottom": null,
            "display": null,
            "flex": null,
            "flex_flow": null,
            "grid_area": null,
            "grid_auto_columns": null,
            "grid_auto_flow": null,
            "grid_auto_rows": null,
            "grid_column": null,
            "grid_gap": null,
            "grid_row": null,
            "grid_template_areas": null,
            "grid_template_columns": null,
            "grid_template_rows": null,
            "height": null,
            "justify_content": null,
            "justify_items": null,
            "left": null,
            "margin": null,
            "max_height": null,
            "max_width": null,
            "min_height": null,
            "min_width": null,
            "object_fit": null,
            "object_position": null,
            "order": null,
            "overflow": null,
            "overflow_x": null,
            "overflow_y": null,
            "padding": null,
            "right": null,
            "top": null,
            "visibility": null,
            "width": null
          }
        },
        "eb97a4a711884aaeb2712f4c34ae7d07": {
          "model_module": "@jupyter-widgets/controls",
          "model_name": "ProgressStyleModel",
          "model_module_version": "1.5.0",
          "state": {
            "_model_module": "@jupyter-widgets/controls",
            "_model_module_version": "1.5.0",
            "_model_name": "ProgressStyleModel",
            "_view_count": null,
            "_view_module": "@jupyter-widgets/base",
            "_view_module_version": "1.2.0",
            "_view_name": "StyleView",
            "bar_color": null,
            "description_width": ""
          }
        },
        "5a6fd499fa1e42a48bd29c70fa393606": {
          "model_module": "@jupyter-widgets/base",
          "model_name": "LayoutModel",
          "model_module_version": "1.2.0",
          "state": {
            "_model_module": "@jupyter-widgets/base",
            "_model_module_version": "1.2.0",
            "_model_name": "LayoutModel",
            "_view_count": null,
            "_view_module": "@jupyter-widgets/base",
            "_view_module_version": "1.2.0",
            "_view_name": "LayoutView",
            "align_content": null,
            "align_items": null,
            "align_self": null,
            "border": null,
            "bottom": null,
            "display": null,
            "flex": null,
            "flex_flow": null,
            "grid_area": null,
            "grid_auto_columns": null,
            "grid_auto_flow": null,
            "grid_auto_rows": null,
            "grid_column": null,
            "grid_gap": null,
            "grid_row": null,
            "grid_template_areas": null,
            "grid_template_columns": null,
            "grid_template_rows": null,
            "height": null,
            "justify_content": null,
            "justify_items": null,
            "left": null,
            "margin": null,
            "max_height": null,
            "max_width": null,
            "min_height": null,
            "min_width": null,
            "object_fit": null,
            "object_position": null,
            "order": null,
            "overflow": null,
            "overflow_x": null,
            "overflow_y": null,
            "padding": null,
            "right": null,
            "top": null,
            "visibility": null,
            "width": null
          }
        },
        "1711ae14011e44a49f4eebaa5383002d": {
          "model_module": "@jupyter-widgets/controls",
          "model_name": "DescriptionStyleModel",
          "model_module_version": "1.5.0",
          "state": {
            "_model_module": "@jupyter-widgets/controls",
            "_model_module_version": "1.5.0",
            "_model_name": "DescriptionStyleModel",
            "_view_count": null,
            "_view_module": "@jupyter-widgets/base",
            "_view_module_version": "1.2.0",
            "_view_name": "StyleView",
            "description_width": ""
          }
        },
        "579cf85918164b00afcecc20580dfbcf": {
          "model_module": "@jupyter-widgets/controls",
          "model_name": "HBoxModel",
          "model_module_version": "1.5.0",
          "state": {
            "_dom_classes": [],
            "_model_module": "@jupyter-widgets/controls",
            "_model_module_version": "1.5.0",
            "_model_name": "HBoxModel",
            "_view_count": null,
            "_view_module": "@jupyter-widgets/controls",
            "_view_module_version": "1.5.0",
            "_view_name": "HBoxView",
            "box_style": "",
            "children": [
              "IPY_MODEL_beab47cc3bba4b64a7648a0bfcbe761c",
              "IPY_MODEL_706ca827d7a14e7a91e587a96c435994",
              "IPY_MODEL_8063c61da5d841dbb1214ad9c03218e8"
            ],
            "layout": "IPY_MODEL_1f46399f7f824a74abe75597e7a52577"
          }
        },
        "beab47cc3bba4b64a7648a0bfcbe761c": {
          "model_module": "@jupyter-widgets/controls",
          "model_name": "HTMLModel",
          "model_module_version": "1.5.0",
          "state": {
            "_dom_classes": [],
            "_model_module": "@jupyter-widgets/controls",
            "_model_module_version": "1.5.0",
            "_model_name": "HTMLModel",
            "_view_count": null,
            "_view_module": "@jupyter-widgets/controls",
            "_view_module_version": "1.5.0",
            "_view_name": "HTMLView",
            "description": "",
            "description_tooltip": null,
            "layout": "IPY_MODEL_8d9abf1b4ba24cfda15203266074382a",
            "placeholder": "​",
            "style": "IPY_MODEL_47a39c4c8d7640879fc55b339042340a",
            "value": "Downloading: 100%"
          }
        },
        "706ca827d7a14e7a91e587a96c435994": {
          "model_module": "@jupyter-widgets/controls",
          "model_name": "FloatProgressModel",
          "model_module_version": "1.5.0",
          "state": {
            "_dom_classes": [],
            "_model_module": "@jupyter-widgets/controls",
            "_model_module_version": "1.5.0",
            "_model_name": "FloatProgressModel",
            "_view_count": null,
            "_view_module": "@jupyter-widgets/controls",
            "_view_module_version": "1.5.0",
            "_view_name": "ProgressView",
            "bar_style": "success",
            "description": "",
            "description_tooltip": null,
            "layout": "IPY_MODEL_93744d267f054f55a27f7957957254ff",
            "max": 536063208,
            "min": 0,
            "orientation": "horizontal",
            "style": "IPY_MODEL_d705f267e0ba4ac68955082d858c665e",
            "value": 536063208
          }
        },
        "8063c61da5d841dbb1214ad9c03218e8": {
          "model_module": "@jupyter-widgets/controls",
          "model_name": "HTMLModel",
          "model_module_version": "1.5.0",
          "state": {
            "_dom_classes": [],
            "_model_module": "@jupyter-widgets/controls",
            "_model_module_version": "1.5.0",
            "_model_name": "HTMLModel",
            "_view_count": null,
            "_view_module": "@jupyter-widgets/controls",
            "_view_module_version": "1.5.0",
            "_view_name": "HTMLView",
            "description": "",
            "description_tooltip": null,
            "layout": "IPY_MODEL_1a241611b0b143cd90c8b2864de6477d",
            "placeholder": "​",
            "style": "IPY_MODEL_35b2274227a7420eaa6b08ccd8fc16d1",
            "value": " 511M/511M [00:08&lt;00:00, 71.5MB/s]"
          }
        },
        "1f46399f7f824a74abe75597e7a52577": {
          "model_module": "@jupyter-widgets/base",
          "model_name": "LayoutModel",
          "model_module_version": "1.2.0",
          "state": {
            "_model_module": "@jupyter-widgets/base",
            "_model_module_version": "1.2.0",
            "_model_name": "LayoutModel",
            "_view_count": null,
            "_view_module": "@jupyter-widgets/base",
            "_view_module_version": "1.2.0",
            "_view_name": "LayoutView",
            "align_content": null,
            "align_items": null,
            "align_self": null,
            "border": null,
            "bottom": null,
            "display": null,
            "flex": null,
            "flex_flow": null,
            "grid_area": null,
            "grid_auto_columns": null,
            "grid_auto_flow": null,
            "grid_auto_rows": null,
            "grid_column": null,
            "grid_gap": null,
            "grid_row": null,
            "grid_template_areas": null,
            "grid_template_columns": null,
            "grid_template_rows": null,
            "height": null,
            "justify_content": null,
            "justify_items": null,
            "left": null,
            "margin": null,
            "max_height": null,
            "max_width": null,
            "min_height": null,
            "min_width": null,
            "object_fit": null,
            "object_position": null,
            "order": null,
            "overflow": null,
            "overflow_x": null,
            "overflow_y": null,
            "padding": null,
            "right": null,
            "top": null,
            "visibility": null,
            "width": null
          }
        },
        "8d9abf1b4ba24cfda15203266074382a": {
          "model_module": "@jupyter-widgets/base",
          "model_name": "LayoutModel",
          "model_module_version": "1.2.0",
          "state": {
            "_model_module": "@jupyter-widgets/base",
            "_model_module_version": "1.2.0",
            "_model_name": "LayoutModel",
            "_view_count": null,
            "_view_module": "@jupyter-widgets/base",
            "_view_module_version": "1.2.0",
            "_view_name": "LayoutView",
            "align_content": null,
            "align_items": null,
            "align_self": null,
            "border": null,
            "bottom": null,
            "display": null,
            "flex": null,
            "flex_flow": null,
            "grid_area": null,
            "grid_auto_columns": null,
            "grid_auto_flow": null,
            "grid_auto_rows": null,
            "grid_column": null,
            "grid_gap": null,
            "grid_row": null,
            "grid_template_areas": null,
            "grid_template_columns": null,
            "grid_template_rows": null,
            "height": null,
            "justify_content": null,
            "justify_items": null,
            "left": null,
            "margin": null,
            "max_height": null,
            "max_width": null,
            "min_height": null,
            "min_width": null,
            "object_fit": null,
            "object_position": null,
            "order": null,
            "overflow": null,
            "overflow_x": null,
            "overflow_y": null,
            "padding": null,
            "right": null,
            "top": null,
            "visibility": null,
            "width": null
          }
        },
        "47a39c4c8d7640879fc55b339042340a": {
          "model_module": "@jupyter-widgets/controls",
          "model_name": "DescriptionStyleModel",
          "model_module_version": "1.5.0",
          "state": {
            "_model_module": "@jupyter-widgets/controls",
            "_model_module_version": "1.5.0",
            "_model_name": "DescriptionStyleModel",
            "_view_count": null,
            "_view_module": "@jupyter-widgets/base",
            "_view_module_version": "1.2.0",
            "_view_name": "StyleView",
            "description_width": ""
          }
        },
        "93744d267f054f55a27f7957957254ff": {
          "model_module": "@jupyter-widgets/base",
          "model_name": "LayoutModel",
          "model_module_version": "1.2.0",
          "state": {
            "_model_module": "@jupyter-widgets/base",
            "_model_module_version": "1.2.0",
            "_model_name": "LayoutModel",
            "_view_count": null,
            "_view_module": "@jupyter-widgets/base",
            "_view_module_version": "1.2.0",
            "_view_name": "LayoutView",
            "align_content": null,
            "align_items": null,
            "align_self": null,
            "border": null,
            "bottom": null,
            "display": null,
            "flex": null,
            "flex_flow": null,
            "grid_area": null,
            "grid_auto_columns": null,
            "grid_auto_flow": null,
            "grid_auto_rows": null,
            "grid_column": null,
            "grid_gap": null,
            "grid_row": null,
            "grid_template_areas": null,
            "grid_template_columns": null,
            "grid_template_rows": null,
            "height": null,
            "justify_content": null,
            "justify_items": null,
            "left": null,
            "margin": null,
            "max_height": null,
            "max_width": null,
            "min_height": null,
            "min_width": null,
            "object_fit": null,
            "object_position": null,
            "order": null,
            "overflow": null,
            "overflow_x": null,
            "overflow_y": null,
            "padding": null,
            "right": null,
            "top": null,
            "visibility": null,
            "width": null
          }
        },
        "d705f267e0ba4ac68955082d858c665e": {
          "model_module": "@jupyter-widgets/controls",
          "model_name": "ProgressStyleModel",
          "model_module_version": "1.5.0",
          "state": {
            "_model_module": "@jupyter-widgets/controls",
            "_model_module_version": "1.5.0",
            "_model_name": "ProgressStyleModel",
            "_view_count": null,
            "_view_module": "@jupyter-widgets/base",
            "_view_module_version": "1.2.0",
            "_view_name": "StyleView",
            "bar_color": null,
            "description_width": ""
          }
        },
        "1a241611b0b143cd90c8b2864de6477d": {
          "model_module": "@jupyter-widgets/base",
          "model_name": "LayoutModel",
          "model_module_version": "1.2.0",
          "state": {
            "_model_module": "@jupyter-widgets/base",
            "_model_module_version": "1.2.0",
            "_model_name": "LayoutModel",
            "_view_count": null,
            "_view_module": "@jupyter-widgets/base",
            "_view_module_version": "1.2.0",
            "_view_name": "LayoutView",
            "align_content": null,
            "align_items": null,
            "align_self": null,
            "border": null,
            "bottom": null,
            "display": null,
            "flex": null,
            "flex_flow": null,
            "grid_area": null,
            "grid_auto_columns": null,
            "grid_auto_flow": null,
            "grid_auto_rows": null,
            "grid_column": null,
            "grid_gap": null,
            "grid_row": null,
            "grid_template_areas": null,
            "grid_template_columns": null,
            "grid_template_rows": null,
            "height": null,
            "justify_content": null,
            "justify_items": null,
            "left": null,
            "margin": null,
            "max_height": null,
            "max_width": null,
            "min_height": null,
            "min_width": null,
            "object_fit": null,
            "object_position": null,
            "order": null,
            "overflow": null,
            "overflow_x": null,
            "overflow_y": null,
            "padding": null,
            "right": null,
            "top": null,
            "visibility": null,
            "width": null
          }
        },
        "35b2274227a7420eaa6b08ccd8fc16d1": {
          "model_module": "@jupyter-widgets/controls",
          "model_name": "DescriptionStyleModel",
          "model_module_version": "1.5.0",
          "state": {
            "_model_module": "@jupyter-widgets/controls",
            "_model_module_version": "1.5.0",
            "_model_name": "DescriptionStyleModel",
            "_view_count": null,
            "_view_module": "@jupyter-widgets/base",
            "_view_module_version": "1.2.0",
            "_view_name": "StyleView",
            "description_width": ""
          }
        }
      }
    }
  },
  "nbformat": 4,
  "nbformat_minor": 0
}